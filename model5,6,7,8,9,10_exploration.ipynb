{
 "cells": [
  {
   "cell_type": "code",
   "execution_count": 1,
   "metadata": {},
   "outputs": [],
   "source": [
    "import pandas as pd\n",
    "from pathlib import Path\n",
    "import holidays\n",
    "import numpy as np\n",
    "from sklearn.model_selection import train_test_split\n",
    "from sklearn.preprocessing import FunctionTransformer, StandardScaler, OneHotEncoder\n",
    "from sklearn.compose import ColumnTransformer\n",
    "from sklearn.impute import SimpleImputer\n",
    "from sklearn.pipeline import make_pipeline\n",
    "from sklearn.metrics import mean_squared_error\n",
    "from sklearn.ensemble import RandomForestRegressor, GradientBoostingRegressor\n",
    "from xgboost import XGBRegressor\n",
    "from sklearn.neural_network import MLPRegressor\n",
    "from time import time\n",
    "\n",
    "# Function to encode dates\n",
    "def _encode_dates(X):\n",
    "    X = X.copy()\n",
    "    X[\"year\"] = X[\"date\"].dt.year\n",
    "    X[\"month\"] = X[\"date\"].dt.month\n",
    "    X[\"day\"] = X[\"date\"].dt.day\n",
    "    X[\"weekday\"] = X[\"date\"].dt.weekday\n",
    "    X[\"hour\"] = X[\"date\"].dt.hour\n",
    "    return X\n",
    "\n",
    "# Function to preprocess data\n",
    "def preprocess_data(data):\n",
    "    data = data.copy()\n",
    "    data = _encode_dates(data)\n",
    "    data[\"weekend\"] = (data[\"weekday\"] > 4).astype(int)\n",
    "    FR_holidays = holidays.FR(years=range(2019, 2022))\n",
    "    data[\"FR_holidays\"] = data[\"date\"].dt.date.isin(FR_holidays).astype(int)\n",
    "    return data"
   ]
  },
  {
   "cell_type": "code",
   "execution_count": 2,
   "metadata": {},
   "outputs": [
    {
     "name": "stderr",
     "output_type": "stream",
     "text": [
      "C:\\Users\\louis\\AppData\\Local\\Temp\\ipykernel_11112\\1142077479.py:11: FutureWarning: 'H' is deprecated and will be removed in a future version, please use 'h' instead.\n",
      "  weather_data = weather_data.resample(\"H\").interpolate(method=\"linear\")\n"
     ]
    }
   ],
   "source": [
    "\n",
    "#%% Load and preprocess train data\n",
    "#data = pd.read_parquet(\"/kaggle/input/msdb-2024/train.parquet\") # to load on Kaggle \n",
    "data = pd.read_parquet(Path(\"data\") / \"train.parquet\") # to load locally\n",
    "train_data = preprocess_data(data)\n",
    "\n",
    "weather_data = pd.read_csv(Path(\"data\") / \"external_data.csv\")\n",
    "weather_data[\"date\"] = pd.to_datetime(weather_data[\"date\"], errors=\"coerce\")\n",
    "weather_data = _encode_dates(weather_data)\n",
    "weather_data = weather_data.drop_duplicates(subset=\"date\")\n",
    "weather_data.set_index(\"date\", inplace=True)\n",
    "weather_data = weather_data.resample(\"H\").interpolate(method=\"linear\")\n",
    "weather_data.reset_index(inplace=True)\n",
    "\n",
    "merged_data = pd.merge(train_data, weather_data, on=\"date\", how=\"left\")\n",
    "merged_data = merged_data.loc[:, ~merged_data.columns.str.endswith((\"_x\", \"_y\"))]\n",
    "\n",
    "def get_train_data(data = merged_data, target_column=\"log_bike_count\"):\n",
    "    data = data.sort_values([\"date\", \"counter_name\"])\n",
    "    y_array = data[target_column].values\n",
    "    X_df = data.drop([target_column, \"bike_count\"], axis=1)\n",
    "    return X_df, y_array\n",
    "\n",
    "X, y = get_train_data(merged_data)\n",
    "\n",
    "# Split train and validation data\n",
    "def train_test_split_temporal(X, y, delta_threshold=\"30 days\"):\n",
    "    cutoff_date = X[\"date\"].max() - pd.Timedelta(delta_threshold)\n",
    "    mask = (X[\"date\"] <= cutoff_date)\n",
    "    return X.loc[mask], y[mask], X.loc[~mask], y[~mask]\n",
    "\n",
    "X_train, y_train, X_valid, y_valid = train_test_split_temporal(X, y)\n"
   ]
  },
  {
   "cell_type": "code",
   "execution_count": 30,
   "metadata": {},
   "outputs": [],
   "source": [
    "\n",
    "#%% Define preprocessing pipeline\n",
    "date_encoder = FunctionTransformer(_encode_dates)\n",
    "date_cols = _encode_dates(X_train[[\"date\"]]).columns.tolist()\n",
    "date_cols = [col for col in date_cols if col != \"day\"]\n",
    "\n",
    "categorical_encoder = OneHotEncoder(handle_unknown=\"ignore\")\n",
    "categorical_cols = [\"counter_name\", \"site_name\"]\n",
    "\n",
    "numerical_encoder = make_pipeline(\n",
    "    SimpleImputer(strategy=\"mean\"),\n",
    "    StandardScaler()\n",
    ")\n",
    "numerical_corr_cols = [\"u\", \"t\", \"tx12\", \"tn12\", \"rafper\", \"td\", \"raf10\", \"ff\", \"nnuage3\", \"vv\"]\n",
    "\n",
    "binary_cols = [\"weekend\", \"FR_holidays\"]\n",
    "\n",
    "preprocessor = ColumnTransformer(\n",
    "    [\n",
    "        (\"date\", OneHotEncoder(handle_unknown=\"ignore\"), date_cols),\n",
    "        (\"cat\", categorical_encoder, categorical_cols),\n",
    "        #(\"num\", numerical_encoder, numerical_corr_cols),\n",
    "        (\"binary\", \"passthrough\", binary_cols)\n",
    "    ]\n",
    ")\n",
    "\n"
   ]
  },
  {
   "cell_type": "code",
   "execution_count": 5,
   "metadata": {},
   "outputs": [],
   "source": [
    "# Prepare test data\n",
    "\n",
    "#test_data = pd.read_parquet(\"/kaggle/input/msdb-2024/final_test.parquet\") # to load on Kaggle\n",
    "test_data = pd.read_parquet(Path(\"data\") / \"final_test.parquet\") # to load locally\n",
    "test_data = preprocess_data(test_data)\n",
    "\n",
    "merged_data = pd.merge(test_data, weather_data, on=\"date\", how=\"left\") # merge test and weather data\n",
    "merged_data = merged_data.loc[:, ~merged_data.columns.str.endswith((\"_x\", \"_y\"))] # Drop redundant date columns \n"
   ]
  },
  {
   "cell_type": "markdown",
   "metadata": {},
   "source": [
    "# 1. GradientBoostingRegressor"
   ]
  },
  {
   "cell_type": "code",
   "execution_count": 13,
   "metadata": {},
   "outputs": [
    {
     "name": "stdout",
     "output_type": "stream",
     "text": [
      "Training time for GradientBoosting without weather: 130.51 seconds\n"
     ]
    },
    {
     "name": "stderr",
     "output_type": "stream",
     "text": [
      "c:\\Users\\louis\\anaconda3\\Lib\\site-packages\\sklearn\\metrics\\_regression.py:492: FutureWarning: 'squared' is deprecated in version 1.4 and will be removed in 1.6. To calculate the root mean squared error, use the function'root_mean_squared_error'.\n",
      "  warnings.warn(\n",
      "c:\\Users\\louis\\anaconda3\\Lib\\site-packages\\sklearn\\metrics\\_regression.py:492: FutureWarning: 'squared' is deprecated in version 1.4 and will be removed in 1.6. To calculate the root mean squared error, use the function'root_mean_squared_error'.\n",
      "  warnings.warn(\n"
     ]
    },
    {
     "name": "stdout",
     "output_type": "stream",
     "text": [
      "Train set, RMSE=0.66\n",
      "Valid set, RMSE=0.63\n",
      "Predictions saved to submission_gradient_without_weather.csv\n"
     ]
    }
   ],
   "source": [
    "# 1. GradientBoostingRegressor\n",
    "from sklearn.ensemble import GradientBoostingRegressor\n",
    "\n",
    "regressor = GradientBoostingRegressor(random_state=42, max_depth=6, n_estimators=100)\n",
    "\n",
    "# Without weather data\n",
    "preprocessor = ColumnTransformer(\n",
    "    [\n",
    "        (\"date\", OneHotEncoder(handle_unknown=\"ignore\"), date_cols),\n",
    "        (\"cat\", categorical_encoder, categorical_cols),\n",
    "        #(\"num\", numerical_encoder, numerical_corr_cols),\n",
    "        (\"binary\", \"passthrough\", binary_cols)\n",
    "    ]\n",
    ")\n",
    "\n",
    "#%%\n",
    "start = time()\n",
    "pipe = make_pipeline(date_encoder, preprocessor, regressor)\n",
    "pipe.fit(X_train, y_train)\n",
    "elapsed_time = time() - start\n",
    "print(f\"Training time for GradientBoosting without weather: {elapsed_time:.2f} seconds\")\n",
    "print(f\"Train set, RMSE={mean_squared_error(y_train, pipe.predict(X_train), squared=False):.2f}\")\n",
    "print(f\"Valid set, RMSE={mean_squared_error(y_valid, pipe.predict(X_valid), squared=False):.2f}\")\n",
    "\n",
    "# Save predictions\n",
    "X_test = merged_data\n",
    "y_pred = pipe.predict(X_test)\n",
    "results = pd.DataFrame(\n",
    "    dict(\n",
    "        Id=np.arange(y_pred.shape[0]),\n",
    "        log_bike_count=y_pred,\n",
    "    )\n",
    ")\n",
    "output_path = \"submission_gradient_without_weather.csv\"\n",
    "results.to_csv(output_path, index=False)\n",
    "print(f\"Predictions saved to {output_path}\")\n"
   ]
  },
  {
   "cell_type": "code",
   "execution_count": null,
   "metadata": {},
   "outputs": [
    {
     "name": "stdout",
     "output_type": "stream",
     "text": [
      "Training time for GradientBoosting with weather: 270.77 seconds\n"
     ]
    },
    {
     "name": "stderr",
     "output_type": "stream",
     "text": [
      "c:\\Users\\louis\\anaconda3\\Lib\\site-packages\\sklearn\\metrics\\_regression.py:492: FutureWarning: 'squared' is deprecated in version 1.4 and will be removed in 1.6. To calculate the root mean squared error, use the function'root_mean_squared_error'.\n",
      "  warnings.warn(\n"
     ]
    },
    {
     "name": "stdout",
     "output_type": "stream",
     "text": [
      "Train set, RMSE=0.65\n"
     ]
    },
    {
     "name": "stderr",
     "output_type": "stream",
     "text": [
      "c:\\Users\\louis\\anaconda3\\Lib\\site-packages\\sklearn\\metrics\\_regression.py:492: FutureWarning: 'squared' is deprecated in version 1.4 and will be removed in 1.6. To calculate the root mean squared error, use the function'root_mean_squared_error'.\n",
      "  warnings.warn(\n"
     ]
    },
    {
     "name": "stdout",
     "output_type": "stream",
     "text": [
      "Valid set, RMSE=0.57\n",
      "Predictions saved to submission_gradient_with_weather.csv\n"
     ]
    }
   ],
   "source": [
    "\n",
    "\n",
    "# With weather data\n",
    "preprocessor = ColumnTransformer(\n",
    "    [\n",
    "        (\"date\", OneHotEncoder(handle_unknown=\"ignore\"), date_cols),\n",
    "        (\"cat\", categorical_encoder, categorical_cols),\n",
    "        (\"num\", numerical_encoder, numerical_corr_cols),\n",
    "        (\"binary\", \"passthrough\", binary_cols)\n",
    "    ]\n",
    ")\n",
    "\n",
    "#%%\n",
    "start = time()\n",
    "pipe = make_pipeline(date_encoder, preprocessor, regressor)\n",
    "pipe.fit(X_train, y_train)\n",
    "elapsed_time = time() - start\n",
    "print(f\"Training time for GradientBoosting with weather: {elapsed_time:.2f} seconds\")\n",
    "print(f\"Train set, RMSE={mean_squared_error(y_train, pipe.predict(X_train), squared=False):.2f}\")\n",
    "print(f\"Valid set, RMSE={mean_squared_error(y_valid, pipe.predict(X_valid), squared=False):.2f}\")\n",
    "\n",
    "# Save predictions\n",
    "X_test = merged_data\n",
    "y_pred = pipe.predict(X_test)\n",
    "results = pd.DataFrame(\n",
    "    dict(\n",
    "        Id=np.arange(y_pred.shape[0]),\n",
    "        log_bike_count=y_pred,\n",
    "    )\n",
    ")\n",
    "output_path = \"submission_gradient_with_weather.csv\"\n",
    "results.to_csv(output_path, index=False)\n",
    "print(f\"Predictions saved to {output_path}\")\n",
    "\n",
    "#%%\n"
   ]
  },
  {
   "cell_type": "markdown",
   "metadata": {},
   "source": [
    "# 2. XGB Regressor"
   ]
  },
  {
   "cell_type": "code",
   "execution_count": 6,
   "metadata": {},
   "outputs": [
    {
     "name": "stdout",
     "output_type": "stream",
     "text": [
      "Training time for GradientBoosting with weather: 14.90 seconds\n"
     ]
    },
    {
     "name": "stderr",
     "output_type": "stream",
     "text": [
      "c:\\Users\\louis\\anaconda3\\Lib\\site-packages\\sklearn\\metrics\\_regression.py:492: FutureWarning: 'squared' is deprecated in version 1.4 and will be removed in 1.6. To calculate the root mean squared error, use the function'root_mean_squared_error'.\n",
      "  warnings.warn(\n"
     ]
    },
    {
     "name": "stdout",
     "output_type": "stream",
     "text": [
      "Train set, RMSE=0.41\n"
     ]
    },
    {
     "name": "stderr",
     "output_type": "stream",
     "text": [
      "c:\\Users\\louis\\anaconda3\\Lib\\site-packages\\sklearn\\metrics\\_regression.py:492: FutureWarning: 'squared' is deprecated in version 1.4 and will be removed in 1.6. To calculate the root mean squared error, use the function'root_mean_squared_error'.\n",
      "  warnings.warn(\n"
     ]
    },
    {
     "name": "stdout",
     "output_type": "stream",
     "text": [
      "Valid set, RMSE=0.51\n",
      "Predictions saved to submission_XGB_with_weather.csv\n"
     ]
    }
   ],
   "source": [
    "# 2. XGB Regressor\n",
    "# With weather data\n",
    "\n",
    "regressor = XGBRegressor(random_state=42, max_depth=10, n_estimators=100)\n",
    "\n",
    "preprocessor = ColumnTransformer(\n",
    "    [\n",
    "        (\"date\", OneHotEncoder(handle_unknown=\"ignore\"), date_cols),\n",
    "        (\"cat\", categorical_encoder, categorical_cols),\n",
    "        (\"num\", numerical_encoder, numerical_corr_cols),\n",
    "        (\"binary\", \"passthrough\", binary_cols)\n",
    "    ]\n",
    ")\n",
    "\n",
    "#%%\n",
    "start = time()\n",
    "pipe = make_pipeline(date_encoder, preprocessor, regressor)\n",
    "pipe.fit(X_train, y_train)\n",
    "elapsed_time = time() - start\n",
    "print(f\"Training time for GradientBoosting with weather: {elapsed_time:.2f} seconds\")\n",
    "print(f\"Train set, RMSE={mean_squared_error(y_train, pipe.predict(X_train), squared=False):.2f}\")\n",
    "print(f\"Valid set, RMSE={mean_squared_error(y_valid, pipe.predict(X_valid), squared=False):.2f}\")\n",
    "\n",
    "# Save predictions\n",
    "X_test = merged_data\n",
    "y_pred = pipe.predict(X_test)\n",
    "results = pd.DataFrame(\n",
    "    dict(\n",
    "        Id=np.arange(y_pred.shape[0]),\n",
    "        log_bike_count=y_pred,\n",
    "    )\n",
    ")\n",
    "output_path = \"submission_XGB_with_weather.csv\"\n",
    "results.to_csv(output_path, index=False)\n",
    "print(f\"Predictions saved to {output_path}\")\n",
    "\n",
    "#%%\n"
   ]
  },
  {
   "cell_type": "markdown",
   "metadata": {},
   "source": [
    "## Best model so far"
   ]
  },
  {
   "cell_type": "code",
   "execution_count": 13,
   "metadata": {},
   "outputs": [
    {
     "name": "stdout",
     "output_type": "stream",
     "text": [
      "Training time for GradientBoosting with weather: 9.72 seconds\n"
     ]
    },
    {
     "name": "stderr",
     "output_type": "stream",
     "text": [
      "c:\\Users\\louis\\anaconda3\\Lib\\site-packages\\sklearn\\metrics\\_regression.py:492: FutureWarning: 'squared' is deprecated in version 1.4 and will be removed in 1.6. To calculate the root mean squared error, use the function'root_mean_squared_error'.\n",
      "  warnings.warn(\n",
      "c:\\Users\\louis\\anaconda3\\Lib\\site-packages\\sklearn\\metrics\\_regression.py:492: FutureWarning: 'squared' is deprecated in version 1.4 and will be removed in 1.6. To calculate the root mean squared error, use the function'root_mean_squared_error'.\n",
      "  warnings.warn(\n"
     ]
    },
    {
     "name": "stdout",
     "output_type": "stream",
     "text": [
      "Train set, RMSE=0.40\n",
      "Valid set, RMSE=0.49\n",
      "Predictions saved to submission_XGB_with_weather.csv\n"
     ]
    }
   ],
   "source": [
    "# 2. XGB Regressor\n",
    "# With weather data \n",
    "# best so far with 0.7669\n",
    "\n",
    "regressor = XGBRegressor(random_state=42, max_depth=10, n_estimators=200, learning_rate = 0.5)\n",
    "\n",
    "preprocessor = ColumnTransformer(\n",
    "    [\n",
    "        (\"date\", OneHotEncoder(handle_unknown=\"ignore\"), date_cols),\n",
    "        (\"cat\", categorical_encoder, categorical_cols),\n",
    "        (\"num\", numerical_encoder, numerical_corr_cols),\n",
    "        (\"binary\", \"passthrough\", binary_cols)\n",
    "    ]\n",
    ")\n",
    "\n",
    "#%%\n",
    "start = time()\n",
    "pipe = make_pipeline(date_encoder, preprocessor, regressor)\n",
    "pipe.fit(X_train, y_train)\n",
    "elapsed_time = time() - start\n",
    "print(f\"Training time for GradientBoosting with weather: {elapsed_time:.2f} seconds\")\n",
    "print(f\"Train set, RMSE={mean_squared_error(y_train, pipe.predict(X_train), squared=False):.2f}\")\n",
    "print(f\"Valid set, RMSE={mean_squared_error(y_valid, pipe.predict(X_valid), squared=False):.2f}\")\n",
    "\n",
    "# Save predictions\n",
    "X_test = merged_data\n",
    "y_pred = pipe.predict(X_test)\n",
    "results = pd.DataFrame(\n",
    "    dict(\n",
    "        Id=np.arange(y_pred.shape[0]),\n",
    "        log_bike_count=y_pred,\n",
    "    )\n",
    ")\n",
    "output_path = \"submission_XGB_with_weather.csv\"\n",
    "results.to_csv(output_path, index=False)\n",
    "print(f\"Predictions saved to {output_path}\")\n",
    "\n",
    "#%%\n"
   ]
  },
  {
   "cell_type": "code",
   "execution_count": 14,
   "metadata": {},
   "outputs": [
    {
     "name": "stdout",
     "output_type": "stream",
     "text": [
      "Starting Grid Search...\n",
      "Fitting 3 folds for each of 27 candidates, totalling 81 fits\n",
      "Best Parameters: {'xgbregressor__learning_rate': 0.3, 'xgbregressor__max_depth': 10, 'xgbregressor__n_estimators': 100}\n",
      "Best Train RMSE: 0.8887\n",
      "\n",
      "Grid Search Results:\n",
      "Params: {'xgbregressor__learning_rate': 0.3, 'xgbregressor__max_depth': 8, 'xgbregressor__n_estimators': 100}, Train RMSE: 0.9285\n",
      "Params: {'xgbregressor__learning_rate': 0.3, 'xgbregressor__max_depth': 8, 'xgbregressor__n_estimators': 200}, Train RMSE: 0.9316\n",
      "Params: {'xgbregressor__learning_rate': 0.3, 'xgbregressor__max_depth': 8, 'xgbregressor__n_estimators': 300}, Train RMSE: 0.9305\n",
      "Params: {'xgbregressor__learning_rate': 0.3, 'xgbregressor__max_depth': 10, 'xgbregressor__n_estimators': 100}, Train RMSE: 0.8887\n",
      "Params: {'xgbregressor__learning_rate': 0.3, 'xgbregressor__max_depth': 10, 'xgbregressor__n_estimators': 200}, Train RMSE: 0.8964\n",
      "Params: {'xgbregressor__learning_rate': 0.3, 'xgbregressor__max_depth': 10, 'xgbregressor__n_estimators': 300}, Train RMSE: 0.8968\n",
      "Params: {'xgbregressor__learning_rate': 0.3, 'xgbregressor__max_depth': 12, 'xgbregressor__n_estimators': 100}, Train RMSE: 0.9201\n",
      "Params: {'xgbregressor__learning_rate': 0.3, 'xgbregressor__max_depth': 12, 'xgbregressor__n_estimators': 200}, Train RMSE: 0.9218\n",
      "Params: {'xgbregressor__learning_rate': 0.3, 'xgbregressor__max_depth': 12, 'xgbregressor__n_estimators': 300}, Train RMSE: 0.9216\n",
      "Params: {'xgbregressor__learning_rate': 0.5, 'xgbregressor__max_depth': 8, 'xgbregressor__n_estimators': 100}, Train RMSE: 0.9134\n",
      "Params: {'xgbregressor__learning_rate': 0.5, 'xgbregressor__max_depth': 8, 'xgbregressor__n_estimators': 200}, Train RMSE: 0.9111\n",
      "Params: {'xgbregressor__learning_rate': 0.5, 'xgbregressor__max_depth': 8, 'xgbregressor__n_estimators': 300}, Train RMSE: 0.9097\n",
      "Params: {'xgbregressor__learning_rate': 0.5, 'xgbregressor__max_depth': 10, 'xgbregressor__n_estimators': 100}, Train RMSE: 0.9237\n",
      "Params: {'xgbregressor__learning_rate': 0.5, 'xgbregressor__max_depth': 10, 'xgbregressor__n_estimators': 200}, Train RMSE: 0.9226\n",
      "Params: {'xgbregressor__learning_rate': 0.5, 'xgbregressor__max_depth': 10, 'xgbregressor__n_estimators': 300}, Train RMSE: 0.9233\n",
      "Params: {'xgbregressor__learning_rate': 0.5, 'xgbregressor__max_depth': 12, 'xgbregressor__n_estimators': 100}, Train RMSE: 0.9351\n",
      "Params: {'xgbregressor__learning_rate': 0.5, 'xgbregressor__max_depth': 12, 'xgbregressor__n_estimators': 200}, Train RMSE: 0.9345\n",
      "Params: {'xgbregressor__learning_rate': 0.5, 'xgbregressor__max_depth': 12, 'xgbregressor__n_estimators': 300}, Train RMSE: 0.9345\n",
      "Params: {'xgbregressor__learning_rate': 0.7, 'xgbregressor__max_depth': 8, 'xgbregressor__n_estimators': 100}, Train RMSE: 1.0313\n",
      "Params: {'xgbregressor__learning_rate': 0.7, 'xgbregressor__max_depth': 8, 'xgbregressor__n_estimators': 200}, Train RMSE: 1.0328\n",
      "Params: {'xgbregressor__learning_rate': 0.7, 'xgbregressor__max_depth': 8, 'xgbregressor__n_estimators': 300}, Train RMSE: 1.0287\n",
      "Params: {'xgbregressor__learning_rate': 0.7, 'xgbregressor__max_depth': 10, 'xgbregressor__n_estimators': 100}, Train RMSE: 0.9925\n",
      "Params: {'xgbregressor__learning_rate': 0.7, 'xgbregressor__max_depth': 10, 'xgbregressor__n_estimators': 200}, Train RMSE: 0.9935\n",
      "Params: {'xgbregressor__learning_rate': 0.7, 'xgbregressor__max_depth': 10, 'xgbregressor__n_estimators': 300}, Train RMSE: 0.9941\n",
      "Params: {'xgbregressor__learning_rate': 0.7, 'xgbregressor__max_depth': 12, 'xgbregressor__n_estimators': 100}, Train RMSE: 0.9613\n",
      "Params: {'xgbregressor__learning_rate': 0.7, 'xgbregressor__max_depth': 12, 'xgbregressor__n_estimators': 200}, Train RMSE: 0.9593\n",
      "Params: {'xgbregressor__learning_rate': 0.7, 'xgbregressor__max_depth': 12, 'xgbregressor__n_estimators': 300}, Train RMSE: 0.9582\n"
     ]
    }
   ],
   "source": [
    "from sklearn.model_selection import GridSearchCV\n",
    "from sklearn.metrics import make_scorer\n",
    "\n",
    "# Define the parameter grid for XGBRegressor\n",
    "param_grid = {\n",
    "    'xgbregressor__learning_rate': [0.3, 0.5, 0.7],\n",
    "    'xgbregressor__max_depth': [8, 10, 12],\n",
    "    'xgbregressor__n_estimators': [100, 200, 300],\n",
    "}\n",
    "\n",
    "# Create the pipeline again for GridSearch\n",
    "regressor = XGBRegressor(random_state=42)\n",
    "\n",
    "pipe = make_pipeline(date_encoder, preprocessor, regressor)\n",
    "\n",
    "# Define a custom scorer for neg RMSE (lower is better)\n",
    "scorer = make_scorer(mean_squared_error, squared=False, greater_is_better=False)\n",
    "\n",
    "# Perform GridSearchCV\n",
    "grid_search = GridSearchCV(\n",
    "    pipe,\n",
    "    param_grid=param_grid,\n",
    "    scoring=scorer,\n",
    "    cv=3,  # Use 3-fold CV\n",
    "    n_jobs=-1,  # Parallelize across CPUs\n",
    "    verbose=2  # Show progress\n",
    ")\n",
    "\n",
    "# Fit the grid search\n",
    "print(\"Starting Grid Search...\")\n",
    "grid_search.fit(X_train, y_train)\n",
    "\n",
    "# Display the best parameters and their performance\n",
    "print(f\"Best Parameters: {grid_search.best_params_}\")\n",
    "print(f\"Best Train RMSE: {-grid_search.best_score_:.4f}\")\n",
    "\n",
    "# Evaluate each combination with train and valid RMSE\n",
    "print(\"\\nGrid Search Results:\")\n",
    "for mean_score, params in zip(grid_search.cv_results_[\"mean_test_score\"], grid_search.cv_results_[\"params\"]):\n",
    "    train_rmse = -mean_score\n",
    "    print(f\"Params: {params}, Train RMSE: {train_rmse:.4f}\")\n"
   ]
  },
  {
   "cell_type": "code",
   "execution_count": 15,
   "metadata": {},
   "outputs": [
    {
     "name": "stdout",
     "output_type": "stream",
     "text": [
      "Starting Grid Search...\n"
     ]
    },
    {
     "name": "stderr",
     "output_type": "stream",
     "text": [
      "c:\\Users\\louis\\anaconda3\\Lib\\site-packages\\sklearn\\metrics\\_regression.py:492: FutureWarning: 'squared' is deprecated in version 1.4 and will be removed in 1.6. To calculate the root mean squared error, use the function'root_mean_squared_error'.\n",
      "  warnings.warn(\n",
      "c:\\Users\\louis\\anaconda3\\Lib\\site-packages\\sklearn\\metrics\\_regression.py:492: FutureWarning: 'squared' is deprecated in version 1.4 and will be removed in 1.6. To calculate the root mean squared error, use the function'root_mean_squared_error'.\n",
      "  warnings.warn(\n"
     ]
    },
    {
     "name": "stdout",
     "output_type": "stream",
     "text": [
      "Params: {'xgbregressor__learning_rate': 0.3, 'xgbregressor__max_depth': 8, 'xgbregressor__n_estimators': 100}, Train RMSE: 0.4641, Valid RMSE: 0.4871\n"
     ]
    },
    {
     "name": "stderr",
     "output_type": "stream",
     "text": [
      "c:\\Users\\louis\\anaconda3\\Lib\\site-packages\\sklearn\\metrics\\_regression.py:492: FutureWarning: 'squared' is deprecated in version 1.4 and will be removed in 1.6. To calculate the root mean squared error, use the function'root_mean_squared_error'.\n",
      "  warnings.warn(\n",
      "c:\\Users\\louis\\anaconda3\\Lib\\site-packages\\sklearn\\metrics\\_regression.py:492: FutureWarning: 'squared' is deprecated in version 1.4 and will be removed in 1.6. To calculate the root mean squared error, use the function'root_mean_squared_error'.\n",
      "  warnings.warn(\n"
     ]
    },
    {
     "name": "stdout",
     "output_type": "stream",
     "text": [
      "Params: {'xgbregressor__learning_rate': 0.3, 'xgbregressor__max_depth': 8, 'xgbregressor__n_estimators': 200}, Train RMSE: 0.4438, Valid RMSE: 0.4834\n"
     ]
    },
    {
     "name": "stderr",
     "output_type": "stream",
     "text": [
      "c:\\Users\\louis\\anaconda3\\Lib\\site-packages\\sklearn\\metrics\\_regression.py:492: FutureWarning: 'squared' is deprecated in version 1.4 and will be removed in 1.6. To calculate the root mean squared error, use the function'root_mean_squared_error'.\n",
      "  warnings.warn(\n",
      "c:\\Users\\louis\\anaconda3\\Lib\\site-packages\\sklearn\\metrics\\_regression.py:492: FutureWarning: 'squared' is deprecated in version 1.4 and will be removed in 1.6. To calculate the root mean squared error, use the function'root_mean_squared_error'.\n",
      "  warnings.warn(\n"
     ]
    },
    {
     "name": "stdout",
     "output_type": "stream",
     "text": [
      "Params: {'xgbregressor__learning_rate': 0.3, 'xgbregressor__max_depth': 8, 'xgbregressor__n_estimators': 300}, Train RMSE: 0.4303, Valid RMSE: 0.4839\n"
     ]
    },
    {
     "name": "stderr",
     "output_type": "stream",
     "text": [
      "c:\\Users\\louis\\anaconda3\\Lib\\site-packages\\sklearn\\metrics\\_regression.py:492: FutureWarning: 'squared' is deprecated in version 1.4 and will be removed in 1.6. To calculate the root mean squared error, use the function'root_mean_squared_error'.\n",
      "  warnings.warn(\n",
      "c:\\Users\\louis\\anaconda3\\Lib\\site-packages\\sklearn\\metrics\\_regression.py:492: FutureWarning: 'squared' is deprecated in version 1.4 and will be removed in 1.6. To calculate the root mean squared error, use the function'root_mean_squared_error'.\n",
      "  warnings.warn(\n"
     ]
    },
    {
     "name": "stdout",
     "output_type": "stream",
     "text": [
      "Params: {'xgbregressor__learning_rate': 0.3, 'xgbregressor__max_depth': 8, 'xgbregressor__n_estimators': 350}, Train RMSE: 0.4243, Valid RMSE: 0.4838\n"
     ]
    },
    {
     "name": "stderr",
     "output_type": "stream",
     "text": [
      "c:\\Users\\louis\\anaconda3\\Lib\\site-packages\\sklearn\\metrics\\_regression.py:492: FutureWarning: 'squared' is deprecated in version 1.4 and will be removed in 1.6. To calculate the root mean squared error, use the function'root_mean_squared_error'.\n",
      "  warnings.warn(\n",
      "c:\\Users\\louis\\anaconda3\\Lib\\site-packages\\sklearn\\metrics\\_regression.py:492: FutureWarning: 'squared' is deprecated in version 1.4 and will be removed in 1.6. To calculate the root mean squared error, use the function'root_mean_squared_error'.\n",
      "  warnings.warn(\n"
     ]
    },
    {
     "name": "stdout",
     "output_type": "stream",
     "text": [
      "Params: {'xgbregressor__learning_rate': 0.3, 'xgbregressor__max_depth': 10, 'xgbregressor__n_estimators': 100}, Train RMSE: 0.4147, Valid RMSE: 0.5055\n"
     ]
    },
    {
     "name": "stderr",
     "output_type": "stream",
     "text": [
      "c:\\Users\\louis\\anaconda3\\Lib\\site-packages\\sklearn\\metrics\\_regression.py:492: FutureWarning: 'squared' is deprecated in version 1.4 and will be removed in 1.6. To calculate the root mean squared error, use the function'root_mean_squared_error'.\n",
      "  warnings.warn(\n",
      "c:\\Users\\louis\\anaconda3\\Lib\\site-packages\\sklearn\\metrics\\_regression.py:492: FutureWarning: 'squared' is deprecated in version 1.4 and will be removed in 1.6. To calculate the root mean squared error, use the function'root_mean_squared_error'.\n",
      "  warnings.warn(\n"
     ]
    },
    {
     "name": "stdout",
     "output_type": "stream",
     "text": [
      "Params: {'xgbregressor__learning_rate': 0.3, 'xgbregressor__max_depth': 10, 'xgbregressor__n_estimators': 200}, Train RMSE: 0.3991, Valid RMSE: 0.5021\n"
     ]
    },
    {
     "name": "stderr",
     "output_type": "stream",
     "text": [
      "c:\\Users\\louis\\anaconda3\\Lib\\site-packages\\sklearn\\metrics\\_regression.py:492: FutureWarning: 'squared' is deprecated in version 1.4 and will be removed in 1.6. To calculate the root mean squared error, use the function'root_mean_squared_error'.\n",
      "  warnings.warn(\n",
      "c:\\Users\\louis\\anaconda3\\Lib\\site-packages\\sklearn\\metrics\\_regression.py:492: FutureWarning: 'squared' is deprecated in version 1.4 and will be removed in 1.6. To calculate the root mean squared error, use the function'root_mean_squared_error'.\n",
      "  warnings.warn(\n"
     ]
    },
    {
     "name": "stdout",
     "output_type": "stream",
     "text": [
      "Params: {'xgbregressor__learning_rate': 0.3, 'xgbregressor__max_depth': 10, 'xgbregressor__n_estimators': 300}, Train RMSE: 0.3899, Valid RMSE: 0.5011\n"
     ]
    },
    {
     "name": "stderr",
     "output_type": "stream",
     "text": [
      "c:\\Users\\louis\\anaconda3\\Lib\\site-packages\\sklearn\\metrics\\_regression.py:492: FutureWarning: 'squared' is deprecated in version 1.4 and will be removed in 1.6. To calculate the root mean squared error, use the function'root_mean_squared_error'.\n",
      "  warnings.warn(\n",
      "c:\\Users\\louis\\anaconda3\\Lib\\site-packages\\sklearn\\metrics\\_regression.py:492: FutureWarning: 'squared' is deprecated in version 1.4 and will be removed in 1.6. To calculate the root mean squared error, use the function'root_mean_squared_error'.\n",
      "  warnings.warn(\n"
     ]
    },
    {
     "name": "stdout",
     "output_type": "stream",
     "text": [
      "Params: {'xgbregressor__learning_rate': 0.3, 'xgbregressor__max_depth': 10, 'xgbregressor__n_estimators': 350}, Train RMSE: 0.3820, Valid RMSE: 0.4995\n"
     ]
    },
    {
     "name": "stderr",
     "output_type": "stream",
     "text": [
      "c:\\Users\\louis\\anaconda3\\Lib\\site-packages\\sklearn\\metrics\\_regression.py:492: FutureWarning: 'squared' is deprecated in version 1.4 and will be removed in 1.6. To calculate the root mean squared error, use the function'root_mean_squared_error'.\n",
      "  warnings.warn(\n",
      "c:\\Users\\louis\\anaconda3\\Lib\\site-packages\\sklearn\\metrics\\_regression.py:492: FutureWarning: 'squared' is deprecated in version 1.4 and will be removed in 1.6. To calculate the root mean squared error, use the function'root_mean_squared_error'.\n",
      "  warnings.warn(\n"
     ]
    },
    {
     "name": "stdout",
     "output_type": "stream",
     "text": [
      "Params: {'xgbregressor__learning_rate': 0.3, 'xgbregressor__max_depth': 12, 'xgbregressor__n_estimators': 100}, Train RMSE: 0.3723, Valid RMSE: 0.4934\n"
     ]
    },
    {
     "name": "stderr",
     "output_type": "stream",
     "text": [
      "c:\\Users\\louis\\anaconda3\\Lib\\site-packages\\sklearn\\metrics\\_regression.py:492: FutureWarning: 'squared' is deprecated in version 1.4 and will be removed in 1.6. To calculate the root mean squared error, use the function'root_mean_squared_error'.\n",
      "  warnings.warn(\n",
      "c:\\Users\\louis\\anaconda3\\Lib\\site-packages\\sklearn\\metrics\\_regression.py:492: FutureWarning: 'squared' is deprecated in version 1.4 and will be removed in 1.6. To calculate the root mean squared error, use the function'root_mean_squared_error'.\n",
      "  warnings.warn(\n"
     ]
    },
    {
     "name": "stdout",
     "output_type": "stream",
     "text": [
      "Params: {'xgbregressor__learning_rate': 0.3, 'xgbregressor__max_depth': 12, 'xgbregressor__n_estimators': 200}, Train RMSE: 0.3518, Valid RMSE: 0.4900\n"
     ]
    },
    {
     "name": "stderr",
     "output_type": "stream",
     "text": [
      "c:\\Users\\louis\\anaconda3\\Lib\\site-packages\\sklearn\\metrics\\_regression.py:492: FutureWarning: 'squared' is deprecated in version 1.4 and will be removed in 1.6. To calculate the root mean squared error, use the function'root_mean_squared_error'.\n",
      "  warnings.warn(\n",
      "c:\\Users\\louis\\anaconda3\\Lib\\site-packages\\sklearn\\metrics\\_regression.py:492: FutureWarning: 'squared' is deprecated in version 1.4 and will be removed in 1.6. To calculate the root mean squared error, use the function'root_mean_squared_error'.\n",
      "  warnings.warn(\n"
     ]
    },
    {
     "name": "stdout",
     "output_type": "stream",
     "text": [
      "Params: {'xgbregressor__learning_rate': 0.3, 'xgbregressor__max_depth': 12, 'xgbregressor__n_estimators': 300}, Train RMSE: 0.3418, Valid RMSE: 0.4887\n"
     ]
    },
    {
     "name": "stderr",
     "output_type": "stream",
     "text": [
      "c:\\Users\\louis\\anaconda3\\Lib\\site-packages\\sklearn\\metrics\\_regression.py:492: FutureWarning: 'squared' is deprecated in version 1.4 and will be removed in 1.6. To calculate the root mean squared error, use the function'root_mean_squared_error'.\n",
      "  warnings.warn(\n",
      "c:\\Users\\louis\\anaconda3\\Lib\\site-packages\\sklearn\\metrics\\_regression.py:492: FutureWarning: 'squared' is deprecated in version 1.4 and will be removed in 1.6. To calculate the root mean squared error, use the function'root_mean_squared_error'.\n",
      "  warnings.warn(\n"
     ]
    },
    {
     "name": "stdout",
     "output_type": "stream",
     "text": [
      "Params: {'xgbregressor__learning_rate': 0.3, 'xgbregressor__max_depth': 12, 'xgbregressor__n_estimators': 350}, Train RMSE: 0.3384, Valid RMSE: 0.4887\n"
     ]
    },
    {
     "name": "stderr",
     "output_type": "stream",
     "text": [
      "c:\\Users\\louis\\anaconda3\\Lib\\site-packages\\sklearn\\metrics\\_regression.py:492: FutureWarning: 'squared' is deprecated in version 1.4 and will be removed in 1.6. To calculate the root mean squared error, use the function'root_mean_squared_error'.\n",
      "  warnings.warn(\n",
      "c:\\Users\\louis\\anaconda3\\Lib\\site-packages\\sklearn\\metrics\\_regression.py:492: FutureWarning: 'squared' is deprecated in version 1.4 and will be removed in 1.6. To calculate the root mean squared error, use the function'root_mean_squared_error'.\n",
      "  warnings.warn(\n"
     ]
    },
    {
     "name": "stdout",
     "output_type": "stream",
     "text": [
      "Params: {'xgbregressor__learning_rate': 0.4, 'xgbregressor__max_depth': 8, 'xgbregressor__n_estimators': 100}, Train RMSE: 0.4590, Valid RMSE: 0.5093\n"
     ]
    },
    {
     "name": "stderr",
     "output_type": "stream",
     "text": [
      "c:\\Users\\louis\\anaconda3\\Lib\\site-packages\\sklearn\\metrics\\_regression.py:492: FutureWarning: 'squared' is deprecated in version 1.4 and will be removed in 1.6. To calculate the root mean squared error, use the function'root_mean_squared_error'.\n",
      "  warnings.warn(\n",
      "c:\\Users\\louis\\anaconda3\\Lib\\site-packages\\sklearn\\metrics\\_regression.py:492: FutureWarning: 'squared' is deprecated in version 1.4 and will be removed in 1.6. To calculate the root mean squared error, use the function'root_mean_squared_error'.\n",
      "  warnings.warn(\n"
     ]
    },
    {
     "name": "stdout",
     "output_type": "stream",
     "text": [
      "Params: {'xgbregressor__learning_rate': 0.4, 'xgbregressor__max_depth': 8, 'xgbregressor__n_estimators': 200}, Train RMSE: 0.4372, Valid RMSE: 0.5060\n"
     ]
    },
    {
     "name": "stderr",
     "output_type": "stream",
     "text": [
      "c:\\Users\\louis\\anaconda3\\Lib\\site-packages\\sklearn\\metrics\\_regression.py:492: FutureWarning: 'squared' is deprecated in version 1.4 and will be removed in 1.6. To calculate the root mean squared error, use the function'root_mean_squared_error'.\n",
      "  warnings.warn(\n",
      "c:\\Users\\louis\\anaconda3\\Lib\\site-packages\\sklearn\\metrics\\_regression.py:492: FutureWarning: 'squared' is deprecated in version 1.4 and will be removed in 1.6. To calculate the root mean squared error, use the function'root_mean_squared_error'.\n",
      "  warnings.warn(\n"
     ]
    },
    {
     "name": "stdout",
     "output_type": "stream",
     "text": [
      "Params: {'xgbregressor__learning_rate': 0.4, 'xgbregressor__max_depth': 8, 'xgbregressor__n_estimators': 300}, Train RMSE: 0.4263, Valid RMSE: 0.5068\n"
     ]
    },
    {
     "name": "stderr",
     "output_type": "stream",
     "text": [
      "c:\\Users\\louis\\anaconda3\\Lib\\site-packages\\sklearn\\metrics\\_regression.py:492: FutureWarning: 'squared' is deprecated in version 1.4 and will be removed in 1.6. To calculate the root mean squared error, use the function'root_mean_squared_error'.\n",
      "  warnings.warn(\n",
      "c:\\Users\\louis\\anaconda3\\Lib\\site-packages\\sklearn\\metrics\\_regression.py:492: FutureWarning: 'squared' is deprecated in version 1.4 and will be removed in 1.6. To calculate the root mean squared error, use the function'root_mean_squared_error'.\n",
      "  warnings.warn(\n"
     ]
    },
    {
     "name": "stdout",
     "output_type": "stream",
     "text": [
      "Params: {'xgbregressor__learning_rate': 0.4, 'xgbregressor__max_depth': 8, 'xgbregressor__n_estimators': 350}, Train RMSE: 0.4168, Valid RMSE: 0.5044\n"
     ]
    },
    {
     "name": "stderr",
     "output_type": "stream",
     "text": [
      "c:\\Users\\louis\\anaconda3\\Lib\\site-packages\\sklearn\\metrics\\_regression.py:492: FutureWarning: 'squared' is deprecated in version 1.4 and will be removed in 1.6. To calculate the root mean squared error, use the function'root_mean_squared_error'.\n",
      "  warnings.warn(\n",
      "c:\\Users\\louis\\anaconda3\\Lib\\site-packages\\sklearn\\metrics\\_regression.py:492: FutureWarning: 'squared' is deprecated in version 1.4 and will be removed in 1.6. To calculate the root mean squared error, use the function'root_mean_squared_error'.\n",
      "  warnings.warn(\n"
     ]
    },
    {
     "name": "stdout",
     "output_type": "stream",
     "text": [
      "Params: {'xgbregressor__learning_rate': 0.4, 'xgbregressor__max_depth': 10, 'xgbregressor__n_estimators': 100}, Train RMSE: 0.4233, Valid RMSE: 0.5054\n"
     ]
    },
    {
     "name": "stderr",
     "output_type": "stream",
     "text": [
      "c:\\Users\\louis\\anaconda3\\Lib\\site-packages\\sklearn\\metrics\\_regression.py:492: FutureWarning: 'squared' is deprecated in version 1.4 and will be removed in 1.6. To calculate the root mean squared error, use the function'root_mean_squared_error'.\n",
      "  warnings.warn(\n",
      "c:\\Users\\louis\\anaconda3\\Lib\\site-packages\\sklearn\\metrics\\_regression.py:492: FutureWarning: 'squared' is deprecated in version 1.4 and will be removed in 1.6. To calculate the root mean squared error, use the function'root_mean_squared_error'.\n",
      "  warnings.warn(\n"
     ]
    },
    {
     "name": "stdout",
     "output_type": "stream",
     "text": [
      "Params: {'xgbregressor__learning_rate': 0.4, 'xgbregressor__max_depth': 10, 'xgbregressor__n_estimators': 200}, Train RMSE: 0.3977, Valid RMSE: 0.4962\n"
     ]
    },
    {
     "name": "stderr",
     "output_type": "stream",
     "text": [
      "c:\\Users\\louis\\anaconda3\\Lib\\site-packages\\sklearn\\metrics\\_regression.py:492: FutureWarning: 'squared' is deprecated in version 1.4 and will be removed in 1.6. To calculate the root mean squared error, use the function'root_mean_squared_error'.\n",
      "  warnings.warn(\n",
      "c:\\Users\\louis\\anaconda3\\Lib\\site-packages\\sklearn\\metrics\\_regression.py:492: FutureWarning: 'squared' is deprecated in version 1.4 and will be removed in 1.6. To calculate the root mean squared error, use the function'root_mean_squared_error'.\n",
      "  warnings.warn(\n"
     ]
    },
    {
     "name": "stdout",
     "output_type": "stream",
     "text": [
      "Params: {'xgbregressor__learning_rate': 0.4, 'xgbregressor__max_depth': 10, 'xgbregressor__n_estimators': 300}, Train RMSE: 0.3843, Valid RMSE: 0.4917\n"
     ]
    },
    {
     "name": "stderr",
     "output_type": "stream",
     "text": [
      "c:\\Users\\louis\\anaconda3\\Lib\\site-packages\\sklearn\\metrics\\_regression.py:492: FutureWarning: 'squared' is deprecated in version 1.4 and will be removed in 1.6. To calculate the root mean squared error, use the function'root_mean_squared_error'.\n",
      "  warnings.warn(\n",
      "c:\\Users\\louis\\anaconda3\\Lib\\site-packages\\sklearn\\metrics\\_regression.py:492: FutureWarning: 'squared' is deprecated in version 1.4 and will be removed in 1.6. To calculate the root mean squared error, use the function'root_mean_squared_error'.\n",
      "  warnings.warn(\n"
     ]
    },
    {
     "name": "stdout",
     "output_type": "stream",
     "text": [
      "Params: {'xgbregressor__learning_rate': 0.4, 'xgbregressor__max_depth': 10, 'xgbregressor__n_estimators': 350}, Train RMSE: 0.3789, Valid RMSE: 0.4913\n"
     ]
    },
    {
     "name": "stderr",
     "output_type": "stream",
     "text": [
      "c:\\Users\\louis\\anaconda3\\Lib\\site-packages\\sklearn\\metrics\\_regression.py:492: FutureWarning: 'squared' is deprecated in version 1.4 and will be removed in 1.6. To calculate the root mean squared error, use the function'root_mean_squared_error'.\n",
      "  warnings.warn(\n",
      "c:\\Users\\louis\\anaconda3\\Lib\\site-packages\\sklearn\\metrics\\_regression.py:492: FutureWarning: 'squared' is deprecated in version 1.4 and will be removed in 1.6. To calculate the root mean squared error, use the function'root_mean_squared_error'.\n",
      "  warnings.warn(\n"
     ]
    },
    {
     "name": "stdout",
     "output_type": "stream",
     "text": [
      "Params: {'xgbregressor__learning_rate': 0.4, 'xgbregressor__max_depth': 12, 'xgbregressor__n_estimators': 100}, Train RMSE: 0.3836, Valid RMSE: 0.5362\n"
     ]
    },
    {
     "name": "stderr",
     "output_type": "stream",
     "text": [
      "c:\\Users\\louis\\anaconda3\\Lib\\site-packages\\sklearn\\metrics\\_regression.py:492: FutureWarning: 'squared' is deprecated in version 1.4 and will be removed in 1.6. To calculate the root mean squared error, use the function'root_mean_squared_error'.\n",
      "  warnings.warn(\n",
      "c:\\Users\\louis\\anaconda3\\Lib\\site-packages\\sklearn\\metrics\\_regression.py:492: FutureWarning: 'squared' is deprecated in version 1.4 and will be removed in 1.6. To calculate the root mean squared error, use the function'root_mean_squared_error'.\n",
      "  warnings.warn(\n"
     ]
    },
    {
     "name": "stdout",
     "output_type": "stream",
     "text": [
      "Params: {'xgbregressor__learning_rate': 0.4, 'xgbregressor__max_depth': 12, 'xgbregressor__n_estimators': 200}, Train RMSE: 0.3555, Valid RMSE: 0.5321\n"
     ]
    },
    {
     "name": "stderr",
     "output_type": "stream",
     "text": [
      "c:\\Users\\louis\\anaconda3\\Lib\\site-packages\\sklearn\\metrics\\_regression.py:492: FutureWarning: 'squared' is deprecated in version 1.4 and will be removed in 1.6. To calculate the root mean squared error, use the function'root_mean_squared_error'.\n",
      "  warnings.warn(\n",
      "c:\\Users\\louis\\anaconda3\\Lib\\site-packages\\sklearn\\metrics\\_regression.py:492: FutureWarning: 'squared' is deprecated in version 1.4 and will be removed in 1.6. To calculate the root mean squared error, use the function'root_mean_squared_error'.\n",
      "  warnings.warn(\n"
     ]
    },
    {
     "name": "stdout",
     "output_type": "stream",
     "text": [
      "Params: {'xgbregressor__learning_rate': 0.4, 'xgbregressor__max_depth': 12, 'xgbregressor__n_estimators': 300}, Train RMSE: 0.3404, Valid RMSE: 0.5303\n"
     ]
    },
    {
     "name": "stderr",
     "output_type": "stream",
     "text": [
      "c:\\Users\\louis\\anaconda3\\Lib\\site-packages\\sklearn\\metrics\\_regression.py:492: FutureWarning: 'squared' is deprecated in version 1.4 and will be removed in 1.6. To calculate the root mean squared error, use the function'root_mean_squared_error'.\n",
      "  warnings.warn(\n",
      "c:\\Users\\louis\\anaconda3\\Lib\\site-packages\\sklearn\\metrics\\_regression.py:492: FutureWarning: 'squared' is deprecated in version 1.4 and will be removed in 1.6. To calculate the root mean squared error, use the function'root_mean_squared_error'.\n",
      "  warnings.warn(\n"
     ]
    },
    {
     "name": "stdout",
     "output_type": "stream",
     "text": [
      "Params: {'xgbregressor__learning_rate': 0.4, 'xgbregressor__max_depth': 12, 'xgbregressor__n_estimators': 350}, Train RMSE: 0.3360, Valid RMSE: 0.5304\n"
     ]
    },
    {
     "name": "stderr",
     "output_type": "stream",
     "text": [
      "c:\\Users\\louis\\anaconda3\\Lib\\site-packages\\sklearn\\metrics\\_regression.py:492: FutureWarning: 'squared' is deprecated in version 1.4 and will be removed in 1.6. To calculate the root mean squared error, use the function'root_mean_squared_error'.\n",
      "  warnings.warn(\n",
      "c:\\Users\\louis\\anaconda3\\Lib\\site-packages\\sklearn\\metrics\\_regression.py:492: FutureWarning: 'squared' is deprecated in version 1.4 and will be removed in 1.6. To calculate the root mean squared error, use the function'root_mean_squared_error'.\n",
      "  warnings.warn(\n"
     ]
    },
    {
     "name": "stdout",
     "output_type": "stream",
     "text": [
      "Params: {'xgbregressor__learning_rate': 0.5, 'xgbregressor__max_depth': 8, 'xgbregressor__n_estimators': 100}, Train RMSE: 0.4645, Valid RMSE: 0.5291\n"
     ]
    },
    {
     "name": "stderr",
     "output_type": "stream",
     "text": [
      "c:\\Users\\louis\\anaconda3\\Lib\\site-packages\\sklearn\\metrics\\_regression.py:492: FutureWarning: 'squared' is deprecated in version 1.4 and will be removed in 1.6. To calculate the root mean squared error, use the function'root_mean_squared_error'.\n",
      "  warnings.warn(\n",
      "c:\\Users\\louis\\anaconda3\\Lib\\site-packages\\sklearn\\metrics\\_regression.py:492: FutureWarning: 'squared' is deprecated in version 1.4 and will be removed in 1.6. To calculate the root mean squared error, use the function'root_mean_squared_error'.\n",
      "  warnings.warn(\n"
     ]
    },
    {
     "name": "stdout",
     "output_type": "stream",
     "text": [
      "Params: {'xgbregressor__learning_rate': 0.5, 'xgbregressor__max_depth': 8, 'xgbregressor__n_estimators': 200}, Train RMSE: 0.4400, Valid RMSE: 0.5245\n"
     ]
    },
    {
     "name": "stderr",
     "output_type": "stream",
     "text": [
      "c:\\Users\\louis\\anaconda3\\Lib\\site-packages\\sklearn\\metrics\\_regression.py:492: FutureWarning: 'squared' is deprecated in version 1.4 and will be removed in 1.6. To calculate the root mean squared error, use the function'root_mean_squared_error'.\n",
      "  warnings.warn(\n",
      "c:\\Users\\louis\\anaconda3\\Lib\\site-packages\\sklearn\\metrics\\_regression.py:492: FutureWarning: 'squared' is deprecated in version 1.4 and will be removed in 1.6. To calculate the root mean squared error, use the function'root_mean_squared_error'.\n",
      "  warnings.warn(\n"
     ]
    },
    {
     "name": "stdout",
     "output_type": "stream",
     "text": [
      "Params: {'xgbregressor__learning_rate': 0.5, 'xgbregressor__max_depth': 8, 'xgbregressor__n_estimators': 300}, Train RMSE: 0.4284, Valid RMSE: 0.5227\n"
     ]
    },
    {
     "name": "stderr",
     "output_type": "stream",
     "text": [
      "c:\\Users\\louis\\anaconda3\\Lib\\site-packages\\sklearn\\metrics\\_regression.py:492: FutureWarning: 'squared' is deprecated in version 1.4 and will be removed in 1.6. To calculate the root mean squared error, use the function'root_mean_squared_error'.\n",
      "  warnings.warn(\n",
      "c:\\Users\\louis\\anaconda3\\Lib\\site-packages\\sklearn\\metrics\\_regression.py:492: FutureWarning: 'squared' is deprecated in version 1.4 and will be removed in 1.6. To calculate the root mean squared error, use the function'root_mean_squared_error'.\n",
      "  warnings.warn(\n"
     ]
    },
    {
     "name": "stdout",
     "output_type": "stream",
     "text": [
      "Params: {'xgbregressor__learning_rate': 0.5, 'xgbregressor__max_depth': 8, 'xgbregressor__n_estimators': 350}, Train RMSE: 0.4228, Valid RMSE: 0.5220\n"
     ]
    },
    {
     "name": "stderr",
     "output_type": "stream",
     "text": [
      "c:\\Users\\louis\\anaconda3\\Lib\\site-packages\\sklearn\\metrics\\_regression.py:492: FutureWarning: 'squared' is deprecated in version 1.4 and will be removed in 1.6. To calculate the root mean squared error, use the function'root_mean_squared_error'.\n",
      "  warnings.warn(\n",
      "c:\\Users\\louis\\anaconda3\\Lib\\site-packages\\sklearn\\metrics\\_regression.py:492: FutureWarning: 'squared' is deprecated in version 1.4 and will be removed in 1.6. To calculate the root mean squared error, use the function'root_mean_squared_error'.\n",
      "  warnings.warn(\n"
     ]
    },
    {
     "name": "stdout",
     "output_type": "stream",
     "text": [
      "Params: {'xgbregressor__learning_rate': 0.5, 'xgbregressor__max_depth': 10, 'xgbregressor__n_estimators': 100}, Train RMSE: 0.4214, Valid RMSE: 0.4961\n"
     ]
    },
    {
     "name": "stderr",
     "output_type": "stream",
     "text": [
      "c:\\Users\\louis\\anaconda3\\Lib\\site-packages\\sklearn\\metrics\\_regression.py:492: FutureWarning: 'squared' is deprecated in version 1.4 and will be removed in 1.6. To calculate the root mean squared error, use the function'root_mean_squared_error'.\n",
      "  warnings.warn(\n",
      "c:\\Users\\louis\\anaconda3\\Lib\\site-packages\\sklearn\\metrics\\_regression.py:492: FutureWarning: 'squared' is deprecated in version 1.4 and will be removed in 1.6. To calculate the root mean squared error, use the function'root_mean_squared_error'.\n",
      "  warnings.warn(\n"
     ]
    },
    {
     "name": "stdout",
     "output_type": "stream",
     "text": [
      "Params: {'xgbregressor__learning_rate': 0.5, 'xgbregressor__max_depth': 10, 'xgbregressor__n_estimators': 200}, Train RMSE: 0.4024, Valid RMSE: 0.4914\n"
     ]
    },
    {
     "name": "stderr",
     "output_type": "stream",
     "text": [
      "c:\\Users\\louis\\anaconda3\\Lib\\site-packages\\sklearn\\metrics\\_regression.py:492: FutureWarning: 'squared' is deprecated in version 1.4 and will be removed in 1.6. To calculate the root mean squared error, use the function'root_mean_squared_error'.\n",
      "  warnings.warn(\n",
      "c:\\Users\\louis\\anaconda3\\Lib\\site-packages\\sklearn\\metrics\\_regression.py:492: FutureWarning: 'squared' is deprecated in version 1.4 and will be removed in 1.6. To calculate the root mean squared error, use the function'root_mean_squared_error'.\n",
      "  warnings.warn(\n"
     ]
    },
    {
     "name": "stdout",
     "output_type": "stream",
     "text": [
      "Params: {'xgbregressor__learning_rate': 0.5, 'xgbregressor__max_depth': 10, 'xgbregressor__n_estimators': 300}, Train RMSE: 0.3850, Valid RMSE: 0.4911\n"
     ]
    },
    {
     "name": "stderr",
     "output_type": "stream",
     "text": [
      "c:\\Users\\louis\\anaconda3\\Lib\\site-packages\\sklearn\\metrics\\_regression.py:492: FutureWarning: 'squared' is deprecated in version 1.4 and will be removed in 1.6. To calculate the root mean squared error, use the function'root_mean_squared_error'.\n",
      "  warnings.warn(\n",
      "c:\\Users\\louis\\anaconda3\\Lib\\site-packages\\sklearn\\metrics\\_regression.py:492: FutureWarning: 'squared' is deprecated in version 1.4 and will be removed in 1.6. To calculate the root mean squared error, use the function'root_mean_squared_error'.\n",
      "  warnings.warn(\n"
     ]
    },
    {
     "name": "stdout",
     "output_type": "stream",
     "text": [
      "Params: {'xgbregressor__learning_rate': 0.5, 'xgbregressor__max_depth': 10, 'xgbregressor__n_estimators': 350}, Train RMSE: 0.3775, Valid RMSE: 0.4891\n"
     ]
    },
    {
     "name": "stderr",
     "output_type": "stream",
     "text": [
      "c:\\Users\\louis\\anaconda3\\Lib\\site-packages\\sklearn\\metrics\\_regression.py:492: FutureWarning: 'squared' is deprecated in version 1.4 and will be removed in 1.6. To calculate the root mean squared error, use the function'root_mean_squared_error'.\n",
      "  warnings.warn(\n",
      "c:\\Users\\louis\\anaconda3\\Lib\\site-packages\\sklearn\\metrics\\_regression.py:492: FutureWarning: 'squared' is deprecated in version 1.4 and will be removed in 1.6. To calculate the root mean squared error, use the function'root_mean_squared_error'.\n",
      "  warnings.warn(\n"
     ]
    },
    {
     "name": "stdout",
     "output_type": "stream",
     "text": [
      "Params: {'xgbregressor__learning_rate': 0.5, 'xgbregressor__max_depth': 12, 'xgbregressor__n_estimators': 100}, Train RMSE: 0.3888, Valid RMSE: 0.5147\n"
     ]
    },
    {
     "name": "stderr",
     "output_type": "stream",
     "text": [
      "c:\\Users\\louis\\anaconda3\\Lib\\site-packages\\sklearn\\metrics\\_regression.py:492: FutureWarning: 'squared' is deprecated in version 1.4 and will be removed in 1.6. To calculate the root mean squared error, use the function'root_mean_squared_error'.\n",
      "  warnings.warn(\n",
      "c:\\Users\\louis\\anaconda3\\Lib\\site-packages\\sklearn\\metrics\\_regression.py:492: FutureWarning: 'squared' is deprecated in version 1.4 and will be removed in 1.6. To calculate the root mean squared error, use the function'root_mean_squared_error'.\n",
      "  warnings.warn(\n"
     ]
    },
    {
     "name": "stdout",
     "output_type": "stream",
     "text": [
      "Params: {'xgbregressor__learning_rate': 0.5, 'xgbregressor__max_depth': 12, 'xgbregressor__n_estimators': 200}, Train RMSE: 0.3572, Valid RMSE: 0.5099\n"
     ]
    },
    {
     "name": "stderr",
     "output_type": "stream",
     "text": [
      "c:\\Users\\louis\\anaconda3\\Lib\\site-packages\\sklearn\\metrics\\_regression.py:492: FutureWarning: 'squared' is deprecated in version 1.4 and will be removed in 1.6. To calculate the root mean squared error, use the function'root_mean_squared_error'.\n",
      "  warnings.warn(\n",
      "c:\\Users\\louis\\anaconda3\\Lib\\site-packages\\sklearn\\metrics\\_regression.py:492: FutureWarning: 'squared' is deprecated in version 1.4 and will be removed in 1.6. To calculate the root mean squared error, use the function'root_mean_squared_error'.\n",
      "  warnings.warn(\n"
     ]
    },
    {
     "name": "stdout",
     "output_type": "stream",
     "text": [
      "Params: {'xgbregressor__learning_rate': 0.5, 'xgbregressor__max_depth': 12, 'xgbregressor__n_estimators': 300}, Train RMSE: 0.3386, Valid RMSE: 0.5106\n"
     ]
    },
    {
     "name": "stderr",
     "output_type": "stream",
     "text": [
      "c:\\Users\\louis\\anaconda3\\Lib\\site-packages\\sklearn\\metrics\\_regression.py:492: FutureWarning: 'squared' is deprecated in version 1.4 and will be removed in 1.6. To calculate the root mean squared error, use the function'root_mean_squared_error'.\n",
      "  warnings.warn(\n",
      "c:\\Users\\louis\\anaconda3\\Lib\\site-packages\\sklearn\\metrics\\_regression.py:492: FutureWarning: 'squared' is deprecated in version 1.4 and will be removed in 1.6. To calculate the root mean squared error, use the function'root_mean_squared_error'.\n",
      "  warnings.warn(\n"
     ]
    },
    {
     "name": "stdout",
     "output_type": "stream",
     "text": [
      "Params: {'xgbregressor__learning_rate': 0.5, 'xgbregressor__max_depth': 12, 'xgbregressor__n_estimators': 350}, Train RMSE: 0.3340, Valid RMSE: 0.5102\n"
     ]
    },
    {
     "name": "stderr",
     "output_type": "stream",
     "text": [
      "c:\\Users\\louis\\anaconda3\\Lib\\site-packages\\sklearn\\metrics\\_regression.py:492: FutureWarning: 'squared' is deprecated in version 1.4 and will be removed in 1.6. To calculate the root mean squared error, use the function'root_mean_squared_error'.\n",
      "  warnings.warn(\n",
      "c:\\Users\\louis\\anaconda3\\Lib\\site-packages\\sklearn\\metrics\\_regression.py:492: FutureWarning: 'squared' is deprecated in version 1.4 and will be removed in 1.6. To calculate the root mean squared error, use the function'root_mean_squared_error'.\n",
      "  warnings.warn(\n"
     ]
    },
    {
     "name": "stdout",
     "output_type": "stream",
     "text": [
      "Params: {'xgbregressor__learning_rate': 0.6, 'xgbregressor__max_depth': 8, 'xgbregressor__n_estimators': 100}, Train RMSE: 0.4590, Valid RMSE: 0.5214\n"
     ]
    },
    {
     "name": "stderr",
     "output_type": "stream",
     "text": [
      "c:\\Users\\louis\\anaconda3\\Lib\\site-packages\\sklearn\\metrics\\_regression.py:492: FutureWarning: 'squared' is deprecated in version 1.4 and will be removed in 1.6. To calculate the root mean squared error, use the function'root_mean_squared_error'.\n",
      "  warnings.warn(\n",
      "c:\\Users\\louis\\anaconda3\\Lib\\site-packages\\sklearn\\metrics\\_regression.py:492: FutureWarning: 'squared' is deprecated in version 1.4 and will be removed in 1.6. To calculate the root mean squared error, use the function'root_mean_squared_error'.\n",
      "  warnings.warn(\n"
     ]
    },
    {
     "name": "stdout",
     "output_type": "stream",
     "text": [
      "Params: {'xgbregressor__learning_rate': 0.6, 'xgbregressor__max_depth': 8, 'xgbregressor__n_estimators': 200}, Train RMSE: 0.4311, Valid RMSE: 0.5174\n"
     ]
    },
    {
     "name": "stderr",
     "output_type": "stream",
     "text": [
      "c:\\Users\\louis\\anaconda3\\Lib\\site-packages\\sklearn\\metrics\\_regression.py:492: FutureWarning: 'squared' is deprecated in version 1.4 and will be removed in 1.6. To calculate the root mean squared error, use the function'root_mean_squared_error'.\n",
      "  warnings.warn(\n",
      "c:\\Users\\louis\\anaconda3\\Lib\\site-packages\\sklearn\\metrics\\_regression.py:492: FutureWarning: 'squared' is deprecated in version 1.4 and will be removed in 1.6. To calculate the root mean squared error, use the function'root_mean_squared_error'.\n",
      "  warnings.warn(\n"
     ]
    },
    {
     "name": "stdout",
     "output_type": "stream",
     "text": [
      "Params: {'xgbregressor__learning_rate': 0.6, 'xgbregressor__max_depth': 8, 'xgbregressor__n_estimators': 300}, Train RMSE: 0.4181, Valid RMSE: 0.5162\n"
     ]
    },
    {
     "name": "stderr",
     "output_type": "stream",
     "text": [
      "c:\\Users\\louis\\anaconda3\\Lib\\site-packages\\sklearn\\metrics\\_regression.py:492: FutureWarning: 'squared' is deprecated in version 1.4 and will be removed in 1.6. To calculate the root mean squared error, use the function'root_mean_squared_error'.\n",
      "  warnings.warn(\n",
      "c:\\Users\\louis\\anaconda3\\Lib\\site-packages\\sklearn\\metrics\\_regression.py:492: FutureWarning: 'squared' is deprecated in version 1.4 and will be removed in 1.6. To calculate the root mean squared error, use the function'root_mean_squared_error'.\n",
      "  warnings.warn(\n"
     ]
    },
    {
     "name": "stdout",
     "output_type": "stream",
     "text": [
      "Params: {'xgbregressor__learning_rate': 0.6, 'xgbregressor__max_depth': 8, 'xgbregressor__n_estimators': 350}, Train RMSE: 0.4129, Valid RMSE: 0.5161\n"
     ]
    },
    {
     "name": "stderr",
     "output_type": "stream",
     "text": [
      "c:\\Users\\louis\\anaconda3\\Lib\\site-packages\\sklearn\\metrics\\_regression.py:492: FutureWarning: 'squared' is deprecated in version 1.4 and will be removed in 1.6. To calculate the root mean squared error, use the function'root_mean_squared_error'.\n",
      "  warnings.warn(\n",
      "c:\\Users\\louis\\anaconda3\\Lib\\site-packages\\sklearn\\metrics\\_regression.py:492: FutureWarning: 'squared' is deprecated in version 1.4 and will be removed in 1.6. To calculate the root mean squared error, use the function'root_mean_squared_error'.\n",
      "  warnings.warn(\n"
     ]
    },
    {
     "name": "stdout",
     "output_type": "stream",
     "text": [
      "Params: {'xgbregressor__learning_rate': 0.6, 'xgbregressor__max_depth': 10, 'xgbregressor__n_estimators': 100}, Train RMSE: 0.4232, Valid RMSE: 0.5143\n"
     ]
    },
    {
     "name": "stderr",
     "output_type": "stream",
     "text": [
      "c:\\Users\\louis\\anaconda3\\Lib\\site-packages\\sklearn\\metrics\\_regression.py:492: FutureWarning: 'squared' is deprecated in version 1.4 and will be removed in 1.6. To calculate the root mean squared error, use the function'root_mean_squared_error'.\n",
      "  warnings.warn(\n",
      "c:\\Users\\louis\\anaconda3\\Lib\\site-packages\\sklearn\\metrics\\_regression.py:492: FutureWarning: 'squared' is deprecated in version 1.4 and will be removed in 1.6. To calculate the root mean squared error, use the function'root_mean_squared_error'.\n",
      "  warnings.warn(\n"
     ]
    },
    {
     "name": "stdout",
     "output_type": "stream",
     "text": [
      "Params: {'xgbregressor__learning_rate': 0.6, 'xgbregressor__max_depth': 10, 'xgbregressor__n_estimators': 200}, Train RMSE: 0.4035, Valid RMSE: 0.5116\n"
     ]
    },
    {
     "name": "stderr",
     "output_type": "stream",
     "text": [
      "c:\\Users\\louis\\anaconda3\\Lib\\site-packages\\sklearn\\metrics\\_regression.py:492: FutureWarning: 'squared' is deprecated in version 1.4 and will be removed in 1.6. To calculate the root mean squared error, use the function'root_mean_squared_error'.\n",
      "  warnings.warn(\n",
      "c:\\Users\\louis\\anaconda3\\Lib\\site-packages\\sklearn\\metrics\\_regression.py:492: FutureWarning: 'squared' is deprecated in version 1.4 and will be removed in 1.6. To calculate the root mean squared error, use the function'root_mean_squared_error'.\n",
      "  warnings.warn(\n"
     ]
    },
    {
     "name": "stdout",
     "output_type": "stream",
     "text": [
      "Params: {'xgbregressor__learning_rate': 0.6, 'xgbregressor__max_depth': 10, 'xgbregressor__n_estimators': 300}, Train RMSE: 0.3835, Valid RMSE: 0.5078\n"
     ]
    },
    {
     "name": "stderr",
     "output_type": "stream",
     "text": [
      "c:\\Users\\louis\\anaconda3\\Lib\\site-packages\\sklearn\\metrics\\_regression.py:492: FutureWarning: 'squared' is deprecated in version 1.4 and will be removed in 1.6. To calculate the root mean squared error, use the function'root_mean_squared_error'.\n",
      "  warnings.warn(\n",
      "c:\\Users\\louis\\anaconda3\\Lib\\site-packages\\sklearn\\metrics\\_regression.py:492: FutureWarning: 'squared' is deprecated in version 1.4 and will be removed in 1.6. To calculate the root mean squared error, use the function'root_mean_squared_error'.\n",
      "  warnings.warn(\n"
     ]
    },
    {
     "name": "stdout",
     "output_type": "stream",
     "text": [
      "Params: {'xgbregressor__learning_rate': 0.6, 'xgbregressor__max_depth': 10, 'xgbregressor__n_estimators': 350}, Train RMSE: 0.3676, Valid RMSE: 0.5052\n"
     ]
    },
    {
     "name": "stderr",
     "output_type": "stream",
     "text": [
      "c:\\Users\\louis\\anaconda3\\Lib\\site-packages\\sklearn\\metrics\\_regression.py:492: FutureWarning: 'squared' is deprecated in version 1.4 and will be removed in 1.6. To calculate the root mean squared error, use the function'root_mean_squared_error'.\n",
      "  warnings.warn(\n",
      "c:\\Users\\louis\\anaconda3\\Lib\\site-packages\\sklearn\\metrics\\_regression.py:492: FutureWarning: 'squared' is deprecated in version 1.4 and will be removed in 1.6. To calculate the root mean squared error, use the function'root_mean_squared_error'.\n",
      "  warnings.warn(\n"
     ]
    },
    {
     "name": "stdout",
     "output_type": "stream",
     "text": [
      "Params: {'xgbregressor__learning_rate': 0.6, 'xgbregressor__max_depth': 12, 'xgbregressor__n_estimators': 100}, Train RMSE: 0.3817, Valid RMSE: 0.5252\n"
     ]
    },
    {
     "name": "stderr",
     "output_type": "stream",
     "text": [
      "c:\\Users\\louis\\anaconda3\\Lib\\site-packages\\sklearn\\metrics\\_regression.py:492: FutureWarning: 'squared' is deprecated in version 1.4 and will be removed in 1.6. To calculate the root mean squared error, use the function'root_mean_squared_error'.\n",
      "  warnings.warn(\n",
      "c:\\Users\\louis\\anaconda3\\Lib\\site-packages\\sklearn\\metrics\\_regression.py:492: FutureWarning: 'squared' is deprecated in version 1.4 and will be removed in 1.6. To calculate the root mean squared error, use the function'root_mean_squared_error'.\n",
      "  warnings.warn(\n"
     ]
    },
    {
     "name": "stdout",
     "output_type": "stream",
     "text": [
      "Params: {'xgbregressor__learning_rate': 0.6, 'xgbregressor__max_depth': 12, 'xgbregressor__n_estimators': 200}, Train RMSE: 0.3516, Valid RMSE: 0.5218\n"
     ]
    },
    {
     "name": "stderr",
     "output_type": "stream",
     "text": [
      "c:\\Users\\louis\\anaconda3\\Lib\\site-packages\\sklearn\\metrics\\_regression.py:492: FutureWarning: 'squared' is deprecated in version 1.4 and will be removed in 1.6. To calculate the root mean squared error, use the function'root_mean_squared_error'.\n",
      "  warnings.warn(\n",
      "c:\\Users\\louis\\anaconda3\\Lib\\site-packages\\sklearn\\metrics\\_regression.py:492: FutureWarning: 'squared' is deprecated in version 1.4 and will be removed in 1.6. To calculate the root mean squared error, use the function'root_mean_squared_error'.\n",
      "  warnings.warn(\n"
     ]
    },
    {
     "name": "stdout",
     "output_type": "stream",
     "text": [
      "Params: {'xgbregressor__learning_rate': 0.6, 'xgbregressor__max_depth': 12, 'xgbregressor__n_estimators': 300}, Train RMSE: 0.3371, Valid RMSE: 0.5209\n"
     ]
    },
    {
     "name": "stderr",
     "output_type": "stream",
     "text": [
      "c:\\Users\\louis\\anaconda3\\Lib\\site-packages\\sklearn\\metrics\\_regression.py:492: FutureWarning: 'squared' is deprecated in version 1.4 and will be removed in 1.6. To calculate the root mean squared error, use the function'root_mean_squared_error'.\n",
      "  warnings.warn(\n",
      "c:\\Users\\louis\\anaconda3\\Lib\\site-packages\\sklearn\\metrics\\_regression.py:492: FutureWarning: 'squared' is deprecated in version 1.4 and will be removed in 1.6. To calculate the root mean squared error, use the function'root_mean_squared_error'.\n",
      "  warnings.warn(\n"
     ]
    },
    {
     "name": "stdout",
     "output_type": "stream",
     "text": [
      "Params: {'xgbregressor__learning_rate': 0.6, 'xgbregressor__max_depth': 12, 'xgbregressor__n_estimators': 350}, Train RMSE: 0.3300, Valid RMSE: 0.5215\n"
     ]
    },
    {
     "name": "stderr",
     "output_type": "stream",
     "text": [
      "c:\\Users\\louis\\anaconda3\\Lib\\site-packages\\sklearn\\metrics\\_regression.py:492: FutureWarning: 'squared' is deprecated in version 1.4 and will be removed in 1.6. To calculate the root mean squared error, use the function'root_mean_squared_error'.\n",
      "  warnings.warn(\n",
      "c:\\Users\\louis\\anaconda3\\Lib\\site-packages\\sklearn\\metrics\\_regression.py:492: FutureWarning: 'squared' is deprecated in version 1.4 and will be removed in 1.6. To calculate the root mean squared error, use the function'root_mean_squared_error'.\n",
      "  warnings.warn(\n"
     ]
    },
    {
     "name": "stdout",
     "output_type": "stream",
     "text": [
      "Params: {'xgbregressor__learning_rate': 0.7, 'xgbregressor__max_depth': 8, 'xgbregressor__n_estimators': 100}, Train RMSE: 0.4619, Valid RMSE: 0.5298\n"
     ]
    },
    {
     "name": "stderr",
     "output_type": "stream",
     "text": [
      "c:\\Users\\louis\\anaconda3\\Lib\\site-packages\\sklearn\\metrics\\_regression.py:492: FutureWarning: 'squared' is deprecated in version 1.4 and will be removed in 1.6. To calculate the root mean squared error, use the function'root_mean_squared_error'.\n",
      "  warnings.warn(\n",
      "c:\\Users\\louis\\anaconda3\\Lib\\site-packages\\sklearn\\metrics\\_regression.py:492: FutureWarning: 'squared' is deprecated in version 1.4 and will be removed in 1.6. To calculate the root mean squared error, use the function'root_mean_squared_error'.\n",
      "  warnings.warn(\n"
     ]
    },
    {
     "name": "stdout",
     "output_type": "stream",
     "text": [
      "Params: {'xgbregressor__learning_rate': 0.7, 'xgbregressor__max_depth': 8, 'xgbregressor__n_estimators': 200}, Train RMSE: 0.4282, Valid RMSE: 0.5266\n"
     ]
    },
    {
     "name": "stderr",
     "output_type": "stream",
     "text": [
      "c:\\Users\\louis\\anaconda3\\Lib\\site-packages\\sklearn\\metrics\\_regression.py:492: FutureWarning: 'squared' is deprecated in version 1.4 and will be removed in 1.6. To calculate the root mean squared error, use the function'root_mean_squared_error'.\n",
      "  warnings.warn(\n",
      "c:\\Users\\louis\\anaconda3\\Lib\\site-packages\\sklearn\\metrics\\_regression.py:492: FutureWarning: 'squared' is deprecated in version 1.4 and will be removed in 1.6. To calculate the root mean squared error, use the function'root_mean_squared_error'.\n",
      "  warnings.warn(\n"
     ]
    },
    {
     "name": "stdout",
     "output_type": "stream",
     "text": [
      "Params: {'xgbregressor__learning_rate': 0.7, 'xgbregressor__max_depth': 8, 'xgbregressor__n_estimators': 300}, Train RMSE: 0.4114, Valid RMSE: 0.5237\n"
     ]
    },
    {
     "name": "stderr",
     "output_type": "stream",
     "text": [
      "c:\\Users\\louis\\anaconda3\\Lib\\site-packages\\sklearn\\metrics\\_regression.py:492: FutureWarning: 'squared' is deprecated in version 1.4 and will be removed in 1.6. To calculate the root mean squared error, use the function'root_mean_squared_error'.\n",
      "  warnings.warn(\n",
      "c:\\Users\\louis\\anaconda3\\Lib\\site-packages\\sklearn\\metrics\\_regression.py:492: FutureWarning: 'squared' is deprecated in version 1.4 and will be removed in 1.6. To calculate the root mean squared error, use the function'root_mean_squared_error'.\n",
      "  warnings.warn(\n"
     ]
    },
    {
     "name": "stdout",
     "output_type": "stream",
     "text": [
      "Params: {'xgbregressor__learning_rate': 0.7, 'xgbregressor__max_depth': 8, 'xgbregressor__n_estimators': 350}, Train RMSE: 0.4065, Valid RMSE: 0.5239\n"
     ]
    },
    {
     "name": "stderr",
     "output_type": "stream",
     "text": [
      "c:\\Users\\louis\\anaconda3\\Lib\\site-packages\\sklearn\\metrics\\_regression.py:492: FutureWarning: 'squared' is deprecated in version 1.4 and will be removed in 1.6. To calculate the root mean squared error, use the function'root_mean_squared_error'.\n",
      "  warnings.warn(\n",
      "c:\\Users\\louis\\anaconda3\\Lib\\site-packages\\sklearn\\metrics\\_regression.py:492: FutureWarning: 'squared' is deprecated in version 1.4 and will be removed in 1.6. To calculate the root mean squared error, use the function'root_mean_squared_error'.\n",
      "  warnings.warn(\n"
     ]
    },
    {
     "name": "stdout",
     "output_type": "stream",
     "text": [
      "Params: {'xgbregressor__learning_rate': 0.7, 'xgbregressor__max_depth': 10, 'xgbregressor__n_estimators': 100}, Train RMSE: 0.4282, Valid RMSE: 0.5183\n"
     ]
    },
    {
     "name": "stderr",
     "output_type": "stream",
     "text": [
      "c:\\Users\\louis\\anaconda3\\Lib\\site-packages\\sklearn\\metrics\\_regression.py:492: FutureWarning: 'squared' is deprecated in version 1.4 and will be removed in 1.6. To calculate the root mean squared error, use the function'root_mean_squared_error'.\n",
      "  warnings.warn(\n",
      "c:\\Users\\louis\\anaconda3\\Lib\\site-packages\\sklearn\\metrics\\_regression.py:492: FutureWarning: 'squared' is deprecated in version 1.4 and will be removed in 1.6. To calculate the root mean squared error, use the function'root_mean_squared_error'.\n",
      "  warnings.warn(\n"
     ]
    },
    {
     "name": "stdout",
     "output_type": "stream",
     "text": [
      "Params: {'xgbregressor__learning_rate': 0.7, 'xgbregressor__max_depth': 10, 'xgbregressor__n_estimators': 200}, Train RMSE: 0.3916, Valid RMSE: 0.5108\n"
     ]
    },
    {
     "name": "stderr",
     "output_type": "stream",
     "text": [
      "c:\\Users\\louis\\anaconda3\\Lib\\site-packages\\sklearn\\metrics\\_regression.py:492: FutureWarning: 'squared' is deprecated in version 1.4 and will be removed in 1.6. To calculate the root mean squared error, use the function'root_mean_squared_error'.\n",
      "  warnings.warn(\n",
      "c:\\Users\\louis\\anaconda3\\Lib\\site-packages\\sklearn\\metrics\\_regression.py:492: FutureWarning: 'squared' is deprecated in version 1.4 and will be removed in 1.6. To calculate the root mean squared error, use the function'root_mean_squared_error'.\n",
      "  warnings.warn(\n"
     ]
    },
    {
     "name": "stdout",
     "output_type": "stream",
     "text": [
      "Params: {'xgbregressor__learning_rate': 0.7, 'xgbregressor__max_depth': 10, 'xgbregressor__n_estimators': 300}, Train RMSE: 0.3743, Valid RMSE: 0.5090\n"
     ]
    },
    {
     "name": "stderr",
     "output_type": "stream",
     "text": [
      "c:\\Users\\louis\\anaconda3\\Lib\\site-packages\\sklearn\\metrics\\_regression.py:492: FutureWarning: 'squared' is deprecated in version 1.4 and will be removed in 1.6. To calculate the root mean squared error, use the function'root_mean_squared_error'.\n",
      "  warnings.warn(\n",
      "c:\\Users\\louis\\anaconda3\\Lib\\site-packages\\sklearn\\metrics\\_regression.py:492: FutureWarning: 'squared' is deprecated in version 1.4 and will be removed in 1.6. To calculate the root mean squared error, use the function'root_mean_squared_error'.\n",
      "  warnings.warn(\n"
     ]
    },
    {
     "name": "stdout",
     "output_type": "stream",
     "text": [
      "Params: {'xgbregressor__learning_rate': 0.7, 'xgbregressor__max_depth': 10, 'xgbregressor__n_estimators': 350}, Train RMSE: 0.3682, Valid RMSE: 0.5086\n"
     ]
    },
    {
     "name": "stderr",
     "output_type": "stream",
     "text": [
      "c:\\Users\\louis\\anaconda3\\Lib\\site-packages\\sklearn\\metrics\\_regression.py:492: FutureWarning: 'squared' is deprecated in version 1.4 and will be removed in 1.6. To calculate the root mean squared error, use the function'root_mean_squared_error'.\n",
      "  warnings.warn(\n",
      "c:\\Users\\louis\\anaconda3\\Lib\\site-packages\\sklearn\\metrics\\_regression.py:492: FutureWarning: 'squared' is deprecated in version 1.4 and will be removed in 1.6. To calculate the root mean squared error, use the function'root_mean_squared_error'.\n",
      "  warnings.warn(\n"
     ]
    },
    {
     "name": "stdout",
     "output_type": "stream",
     "text": [
      "Params: {'xgbregressor__learning_rate': 0.7, 'xgbregressor__max_depth': 12, 'xgbregressor__n_estimators': 100}, Train RMSE: 0.3849, Valid RMSE: 0.5523\n"
     ]
    },
    {
     "name": "stderr",
     "output_type": "stream",
     "text": [
      "c:\\Users\\louis\\anaconda3\\Lib\\site-packages\\sklearn\\metrics\\_regression.py:492: FutureWarning: 'squared' is deprecated in version 1.4 and will be removed in 1.6. To calculate the root mean squared error, use the function'root_mean_squared_error'.\n",
      "  warnings.warn(\n",
      "c:\\Users\\louis\\anaconda3\\Lib\\site-packages\\sklearn\\metrics\\_regression.py:492: FutureWarning: 'squared' is deprecated in version 1.4 and will be removed in 1.6. To calculate the root mean squared error, use the function'root_mean_squared_error'.\n",
      "  warnings.warn(\n"
     ]
    },
    {
     "name": "stdout",
     "output_type": "stream",
     "text": [
      "Params: {'xgbregressor__learning_rate': 0.7, 'xgbregressor__max_depth': 12, 'xgbregressor__n_estimators': 200}, Train RMSE: 0.3579, Valid RMSE: 0.5516\n"
     ]
    },
    {
     "name": "stderr",
     "output_type": "stream",
     "text": [
      "c:\\Users\\louis\\anaconda3\\Lib\\site-packages\\sklearn\\metrics\\_regression.py:492: FutureWarning: 'squared' is deprecated in version 1.4 and will be removed in 1.6. To calculate the root mean squared error, use the function'root_mean_squared_error'.\n",
      "  warnings.warn(\n",
      "c:\\Users\\louis\\anaconda3\\Lib\\site-packages\\sklearn\\metrics\\_regression.py:492: FutureWarning: 'squared' is deprecated in version 1.4 and will be removed in 1.6. To calculate the root mean squared error, use the function'root_mean_squared_error'.\n",
      "  warnings.warn(\n"
     ]
    },
    {
     "name": "stdout",
     "output_type": "stream",
     "text": [
      "Params: {'xgbregressor__learning_rate': 0.7, 'xgbregressor__max_depth': 12, 'xgbregressor__n_estimators': 300}, Train RMSE: 0.3405, Valid RMSE: 0.5511\n"
     ]
    },
    {
     "name": "stderr",
     "output_type": "stream",
     "text": [
      "c:\\Users\\louis\\anaconda3\\Lib\\site-packages\\sklearn\\metrics\\_regression.py:492: FutureWarning: 'squared' is deprecated in version 1.4 and will be removed in 1.6. To calculate the root mean squared error, use the function'root_mean_squared_error'.\n",
      "  warnings.warn(\n"
     ]
    },
    {
     "name": "stdout",
     "output_type": "stream",
     "text": [
      "Params: {'xgbregressor__learning_rate': 0.7, 'xgbregressor__max_depth': 12, 'xgbregressor__n_estimators': 350}, Train RMSE: 0.3295, Valid RMSE: 0.5491\n",
      "\n",
      "Grid Search completed in 20.82 minutes\n",
      "Best Parameters: {'xgbregressor__learning_rate': 0.3, 'xgbregressor__max_depth': 8, 'xgbregressor__n_estimators': 200}\n",
      "Best Validation RMSE: 0.4834\n",
      "Grid search results saved to 'grid_search_results.csv'\n"
     ]
    },
    {
     "name": "stderr",
     "output_type": "stream",
     "text": [
      "c:\\Users\\louis\\anaconda3\\Lib\\site-packages\\sklearn\\metrics\\_regression.py:492: FutureWarning: 'squared' is deprecated in version 1.4 and will be removed in 1.6. To calculate the root mean squared error, use the function'root_mean_squared_error'.\n",
      "  warnings.warn(\n"
     ]
    }
   ],
   "source": [
    "import pandas as pd\n",
    "from sklearn.metrics import mean_squared_error\n",
    "from sklearn.model_selection import ParameterGrid\n",
    "from time import time\n",
    "\n",
    "# Define the parameter grid for XGBRegressor\n",
    "param_grid = {\n",
    "    'xgbregressor__learning_rate': [0.3, 0.4, 0.5, 0.6, 0.7],\n",
    "    'xgbregressor__max_depth': [8, 10, 12],\n",
    "    'xgbregressor__n_estimators': [100, 200, 300, 350],\n",
    "}\n",
    "\n",
    "# Create the pipeline\n",
    "regressor = XGBRegressor(random_state=42)\n",
    "pipe = make_pipeline(date_encoder, preprocessor, regressor)\n",
    "\n",
    "# Loop over all parameter combinations\n",
    "best_params = None\n",
    "best_valid_rmse = float(\"inf\")\n",
    "results = []\n",
    "\n",
    "print(\"Starting Grid Search...\")\n",
    "start_time = time()\n",
    "\n",
    "for params in ParameterGrid(param_grid):\n",
    "    # Update the regressor with current params\n",
    "    pipe.set_params(**params)\n",
    "    \n",
    "    # Fit the pipeline on the training data\n",
    "    pipe.fit(X_train, y_train)\n",
    "    \n",
    "    # Compute RMSE on train and validation sets\n",
    "    train_rmse = mean_squared_error(y_train, pipe.predict(X_train), squared=False)\n",
    "    valid_rmse = mean_squared_error(y_valid, pipe.predict(X_valid), squared=False)\n",
    "    \n",
    "    # Store results\n",
    "    results.append((params, train_rmse, valid_rmse))\n",
    "    \n",
    "    # Update best parameters if current valid RMSE is lower\n",
    "    if valid_rmse < best_valid_rmse:\n",
    "        best_valid_rmse = valid_rmse\n",
    "        best_params = params\n",
    "    \n",
    "    print(f\"Params: {params}, Train RMSE: {train_rmse:.4f}, Valid RMSE: {valid_rmse:.4f}\")\n",
    "\n",
    "elapsed_time = time() - start_time\n",
    "print(f\"\\nGrid Search completed in {elapsed_time / 60:.2f} minutes\")\n",
    "print(f\"Best Parameters: {best_params}\")\n",
    "print(f\"Best Validation RMSE: {best_valid_rmse:.4f}\")\n",
    "\n",
    "# Save all results to a DataFrame for further inspection\n",
    "results_df = pd.DataFrame(results, columns=[\"Params\", \"Train RMSE\", \"Valid RMSE\"])\n",
    "results_df.to_csv(\"grid_search_results.csv\", index=False)\n",
    "print(\"Grid search results saved to 'grid_search_results.csv'\")\n"
   ]
  },
  {
   "cell_type": "code",
   "execution_count": 16,
   "metadata": {},
   "outputs": [
    {
     "name": "stdout",
     "output_type": "stream",
     "text": [
      "Training time for GradientBoosting with weather: 7.30 seconds\n"
     ]
    },
    {
     "name": "stderr",
     "output_type": "stream",
     "text": [
      "c:\\Users\\louis\\anaconda3\\Lib\\site-packages\\sklearn\\metrics\\_regression.py:492: FutureWarning: 'squared' is deprecated in version 1.4 and will be removed in 1.6. To calculate the root mean squared error, use the function'root_mean_squared_error'.\n",
      "  warnings.warn(\n",
      "c:\\Users\\louis\\anaconda3\\Lib\\site-packages\\sklearn\\metrics\\_regression.py:492: FutureWarning: 'squared' is deprecated in version 1.4 and will be removed in 1.6. To calculate the root mean squared error, use the function'root_mean_squared_error'.\n",
      "  warnings.warn(\n"
     ]
    },
    {
     "name": "stdout",
     "output_type": "stream",
     "text": [
      "Train set, RMSE=0.44\n",
      "Valid set, RMSE=0.48\n",
      "Predictions saved to submission_XGB_with_weather_d=8,n=200,l=0.3.csv\n"
     ]
    }
   ],
   "source": [
    "# 2. XGB Regressor\n",
    "# With weather data \n",
    "\n",
    "regressor = XGBRegressor(random_state=42, max_depth=8, n_estimators=200, learning_rate = 0.3)\n",
    "\n",
    "preprocessor = ColumnTransformer(\n",
    "    [\n",
    "        (\"date\", OneHotEncoder(handle_unknown=\"ignore\"), date_cols),\n",
    "        (\"cat\", categorical_encoder, categorical_cols),\n",
    "        (\"num\", numerical_encoder, numerical_corr_cols),\n",
    "        (\"binary\", \"passthrough\", binary_cols)\n",
    "    ]\n",
    ")\n",
    "\n",
    "#%%\n",
    "start = time()\n",
    "pipe = make_pipeline(date_encoder, preprocessor, regressor)\n",
    "pipe.fit(X_train, y_train)\n",
    "elapsed_time = time() - start\n",
    "print(f\"Training time for GradientBoosting with weather: {elapsed_time:.2f} seconds\")\n",
    "print(f\"Train set, RMSE={mean_squared_error(y_train, pipe.predict(X_train), squared=False):.2f}\")\n",
    "print(f\"Valid set, RMSE={mean_squared_error(y_valid, pipe.predict(X_valid), squared=False):.2f}\")\n",
    "\n",
    "# Save predictions\n",
    "X_test = merged_data\n",
    "y_pred = pipe.predict(X_test)\n",
    "results = pd.DataFrame(\n",
    "    dict(\n",
    "        Id=np.arange(y_pred.shape[0]),\n",
    "        log_bike_count=y_pred,\n",
    "    )\n",
    ")\n",
    "output_path = \"submission_XGB_with_weather_d=8,n=200,l=0.3.csv\"\n",
    "results.to_csv(output_path, index=False)\n",
    "print(f\"Predictions saved to {output_path}\")\n",
    "\n",
    "#%%\n"
   ]
  },
  {
   "cell_type": "markdown",
   "metadata": {},
   "source": [
    "## Using all weather data, did not help"
   ]
  },
  {
   "cell_type": "code",
   "execution_count": null,
   "metadata": {},
   "outputs": [
    {
     "name": "stderr",
     "output_type": "stream",
     "text": [
      "c:\\Users\\louis\\anaconda3\\Lib\\site-packages\\sklearn\\impute\\_base.py:598: UserWarning: Skipping features without any observed values: ['niv_bar' 'geop' 'tn24' 'tx24' 'tminsol' 'sw' 'tw' 'phenspe1' 'phenspe2'\n",
      " 'phenspe3' 'phenspe4']. At least one non-missing value is needed for imputation with strategy='mean'.\n",
      "  warnings.warn(\n"
     ]
    },
    {
     "name": "stdout",
     "output_type": "stream",
     "text": [
      "Training time for GradientBoosting with weather: 24.34 seconds\n"
     ]
    },
    {
     "name": "stderr",
     "output_type": "stream",
     "text": [
      "c:\\Users\\louis\\anaconda3\\Lib\\site-packages\\sklearn\\impute\\_base.py:598: UserWarning: Skipping features without any observed values: ['niv_bar' 'geop' 'tn24' 'tx24' 'tminsol' 'sw' 'tw' 'phenspe1' 'phenspe2'\n",
      " 'phenspe3' 'phenspe4']. At least one non-missing value is needed for imputation with strategy='mean'.\n",
      "  warnings.warn(\n",
      "c:\\Users\\louis\\anaconda3\\Lib\\site-packages\\sklearn\\metrics\\_regression.py:492: FutureWarning: 'squared' is deprecated in version 1.4 and will be removed in 1.6. To calculate the root mean squared error, use the function'root_mean_squared_error'.\n",
      "  warnings.warn(\n"
     ]
    },
    {
     "name": "stdout",
     "output_type": "stream",
     "text": [
      "Train set, RMSE=0.36\n"
     ]
    },
    {
     "name": "stderr",
     "output_type": "stream",
     "text": [
      "c:\\Users\\louis\\anaconda3\\Lib\\site-packages\\sklearn\\impute\\_base.py:598: UserWarning: Skipping features without any observed values: ['niv_bar' 'geop' 'tn24' 'tx24' 'tminsol' 'sw' 'tw' 'phenspe1' 'phenspe2'\n",
      " 'phenspe3' 'phenspe4']. At least one non-missing value is needed for imputation with strategy='mean'.\n",
      "  warnings.warn(\n",
      "c:\\Users\\louis\\anaconda3\\Lib\\site-packages\\sklearn\\metrics\\_regression.py:492: FutureWarning: 'squared' is deprecated in version 1.4 and will be removed in 1.6. To calculate the root mean squared error, use the function'root_mean_squared_error'.\n",
      "  warnings.warn(\n"
     ]
    },
    {
     "name": "stdout",
     "output_type": "stream",
     "text": [
      "Valid set, RMSE=0.56\n"
     ]
    },
    {
     "name": "stderr",
     "output_type": "stream",
     "text": [
      "c:\\Users\\louis\\anaconda3\\Lib\\site-packages\\sklearn\\impute\\_base.py:598: UserWarning: Skipping features without any observed values: ['niv_bar' 'geop' 'tn24' 'tx24' 'tminsol' 'sw' 'tw' 'phenspe1' 'phenspe2'\n",
      " 'phenspe3' 'phenspe4']. At least one non-missing value is needed for imputation with strategy='mean'.\n",
      "  warnings.warn(\n"
     ]
    },
    {
     "name": "stdout",
     "output_type": "stream",
     "text": [
      "Predictions saved to submission_XGB_with_weather.csv\n"
     ]
    }
   ],
   "source": [
    "# 2. XGB Regressor\n",
    "# With ALL weather data (did not imporve)\n",
    "\n",
    "\n",
    "#%% Define preprocessing pipeline\n",
    "date_encoder = FunctionTransformer(_encode_dates)\n",
    "date_cols = _encode_dates(X_train[[\"date\"]]).columns.tolist()\n",
    "date_cols = [col for col in date_cols if col != \"day\"]\n",
    "\n",
    "categorical_encoder = OneHotEncoder(handle_unknown=\"ignore\")\n",
    "categorical_cols = [\"counter_name\", \"site_name\"]\n",
    "\n",
    "numerical_encoder = make_pipeline(\n",
    "    SimpleImputer(strategy=\"mean\"),\n",
    "    StandardScaler()\n",
    ")\n",
    "\n",
    "numerical_corr_cols = weather_data.drop(columns=[\"date\", \"year\", \"month\", \"day\", \"weekday\", \"hour\"]).columns\n",
    "\n",
    "binary_cols = [\"weekend\", \"FR_holidays\"]\n",
    "\n",
    "preprocessor = ColumnTransformer(\n",
    "    [\n",
    "        (\"date\", OneHotEncoder(handle_unknown=\"ignore\"), date_cols),\n",
    "        (\"cat\", categorical_encoder, categorical_cols),\n",
    "        #(\"num\", numerical_encoder, numerical_corr_cols),\n",
    "        (\"binary\", \"passthrough\", binary_cols)\n",
    "    ]\n",
    ")\n",
    "\n",
    "\n",
    "\n",
    "regressor = XGBRegressor(random_state=42, max_depth=10, n_estimators=200, learning_rate = 0.5)\n",
    "\n",
    "preprocessor = ColumnTransformer(\n",
    "    [\n",
    "        (\"date\", OneHotEncoder(handle_unknown=\"ignore\"), date_cols),\n",
    "        (\"cat\", categorical_encoder, categorical_cols),\n",
    "        (\"num\", numerical_encoder, numerical_corr_cols),\n",
    "        (\"binary\", \"passthrough\", binary_cols)\n",
    "    ]\n",
    ")\n",
    "\n",
    "#%%\n",
    "start = time()\n",
    "pipe = make_pipeline(date_encoder, preprocessor, regressor)\n",
    "pipe.fit(X_train, y_train)\n",
    "elapsed_time = time() - start\n",
    "print(f\"Training time for GradientBoosting with weather: {elapsed_time:.2f} seconds\")\n",
    "print(f\"Train set, RMSE={mean_squared_error(y_train, pipe.predict(X_train), squared=False):.2f}\")\n",
    "print(f\"Valid set, RMSE={mean_squared_error(y_valid, pipe.predict(X_valid), squared=False):.2f}\")\n",
    "\n",
    "# Save predictions\n",
    "X_test = merged_data\n",
    "y_pred = pipe.predict(X_test)\n",
    "results = pd.DataFrame(\n",
    "    dict(\n",
    "        Id=np.arange(y_pred.shape[0]),\n",
    "        log_bike_count=y_pred,\n",
    "    )\n",
    ")\n",
    "output_path = \"submission_XGB_with_weather.csv\"\n",
    "results.to_csv(output_path, index=False)\n",
    "print(f\"Predictions saved to {output_path}\")\n",
    "\n",
    "#%%\n"
   ]
  },
  {
   "cell_type": "markdown",
   "metadata": {},
   "source": [
    "## Completely without weather, did not help"
   ]
  },
  {
   "cell_type": "code",
   "execution_count": 31,
   "metadata": {},
   "outputs": [
    {
     "name": "stdout",
     "output_type": "stream",
     "text": [
      "Training time for GradientBoosting with weather: 12.44 seconds\n"
     ]
    },
    {
     "name": "stderr",
     "output_type": "stream",
     "text": [
      "c:\\Users\\louis\\anaconda3\\Lib\\site-packages\\sklearn\\metrics\\_regression.py:492: FutureWarning: 'squared' is deprecated in version 1.4 and will be removed in 1.6. To calculate the root mean squared error, use the function'root_mean_squared_error'.\n",
      "  warnings.warn(\n"
     ]
    },
    {
     "name": "stdout",
     "output_type": "stream",
     "text": [
      "Train set, RMSE=0.45\n"
     ]
    },
    {
     "name": "stderr",
     "output_type": "stream",
     "text": [
      "c:\\Users\\louis\\anaconda3\\Lib\\site-packages\\sklearn\\metrics\\_regression.py:492: FutureWarning: 'squared' is deprecated in version 1.4 and will be removed in 1.6. To calculate the root mean squared error, use the function'root_mean_squared_error'.\n",
      "  warnings.warn(\n"
     ]
    },
    {
     "name": "stdout",
     "output_type": "stream",
     "text": [
      "Valid set, RMSE=0.51\n",
      "Predictions saved to submission_XGB_without_weather,d=10,n=200,l=0.5.csv\n"
     ]
    }
   ],
   "source": [
    "\n",
    "#%% Define preprocessing pipeline\n",
    "date_encoder = FunctionTransformer(_encode_dates)\n",
    "date_cols = _encode_dates(X_train[[\"date\"]]).columns.tolist()\n",
    "date_cols = [col for col in date_cols if col != \"day\"]\n",
    "\n",
    "categorical_encoder = OneHotEncoder(handle_unknown=\"ignore\")\n",
    "categorical_cols = [\"counter_name\", \"site_name\"]\n",
    "\n",
    "numerical_encoder = make_pipeline(\n",
    "    SimpleImputer(strategy=\"mean\"),\n",
    "    StandardScaler()\n",
    ")\n",
    "numerical_corr_cols = [\"u\", \"t\", \"tx12\", \"tn12\", \"rafper\", \"td\", \"raf10\", \"ff\", \"nnuage3\", \"vv\"]\n",
    "\n",
    "binary_cols = [\"weekend\", \"FR_holidays\"]\n",
    "\n",
    "preprocessor = ColumnTransformer(\n",
    "    [\n",
    "        (\"date\", OneHotEncoder(handle_unknown=\"ignore\"), date_cols),\n",
    "        (\"cat\", categorical_encoder, categorical_cols),\n",
    "        #(\"num\", numerical_encoder, numerical_corr_cols),\n",
    "        (\"binary\", \"passthrough\", binary_cols)\n",
    "    ]\n",
    ")\n",
    "\n",
    "\n",
    "regressor = XGBRegressor(random_state=42, max_depth=10, n_estimators=200, learning_rate = 0.5)\n",
    "\n",
    "#%%\n",
    "start = time()\n",
    "pipe = make_pipeline(date_encoder, preprocessor, regressor)\n",
    "pipe.fit(X_train, y_train)\n",
    "elapsed_time = time() - start\n",
    "print(f\"Training time for GradientBoosting with weather: {elapsed_time:.2f} seconds\")\n",
    "print(f\"Train set, RMSE={mean_squared_error(y_train, pipe.predict(X_train), squared=False):.2f}\")\n",
    "print(f\"Valid set, RMSE={mean_squared_error(y_valid, pipe.predict(X_valid), squared=False):.2f}\")\n",
    "\n",
    "# Save predictions\n",
    "X_test = merged_data\n",
    "y_pred = pipe.predict(X_test)\n",
    "results = pd.DataFrame(\n",
    "    dict(\n",
    "        Id=np.arange(y_pred.shape[0]),\n",
    "        log_bike_count=y_pred,\n",
    "    )\n",
    ")\n",
    "output_path = \"submission_XGB_without_weather,d=10,n=200,l=0.5.csv\"\n",
    "results.to_csv(output_path, index=False)\n",
    "print(f\"Predictions saved to {output_path}\")\n",
    "\n",
    "#%%\n"
   ]
  },
  {
   "cell_type": "markdown",
   "metadata": {},
   "source": [
    "## XGB, dropping zero-valued rows for prediction"
   ]
  },
  {
   "cell_type": "code",
   "execution_count": null,
   "metadata": {},
   "outputs": [
    {
     "data": {
      "text/plain": [
       "41401"
      ]
     },
     "execution_count": 42,
     "metadata": {},
     "output_type": "execute_result"
    }
   ],
   "source": [
    "(data[\"log_bike_count\"] == 0).sum"
   ]
  },
  {
   "cell_type": "code",
   "execution_count": 45,
   "metadata": {},
   "outputs": [
    {
     "name": "stdout",
     "output_type": "stream",
     "text": [
      "40164\n",
      "1237\n"
     ]
    }
   ],
   "source": [
    "print((y_train == 0).sum())\n",
    "print((y_valid == 0). sum())"
   ]
  },
  {
   "cell_type": "markdown",
   "metadata": {},
   "source": [
    "There are 40k zero bike counts!"
   ]
  },
  {
   "cell_type": "code",
   "execution_count": 99,
   "metadata": {},
   "outputs": [
    {
     "name": "stderr",
     "output_type": "stream",
     "text": [
      "C:\\Users\\louis\\AppData\\Local\\Temp\\ipykernel_27612\\3295677828.py:13: FutureWarning: 'H' is deprecated and will be removed in a future version, please use 'h' instead.\n",
      "  weather_data = weather_data.resample(\"H\").interpolate(method=\"linear\")\n"
     ]
    }
   ],
   "source": [
    "# Slightly different data loading\n",
    "\n",
    "#%% Load and preprocess train data\n",
    "#data = pd.read_parquet(\"/kaggle/input/msdb-2024/train.parquet\") # to load on Kaggle \n",
    "data = pd.read_parquet(Path(\"data\") / \"train.parquet\") # to load locally\n",
    "train_data = preprocess_data(data)\n",
    "\n",
    "weather_data = pd.read_csv(Path(\"data\") / \"external_data.csv\")\n",
    "weather_data[\"date\"] = pd.to_datetime(weather_data[\"date\"], errors=\"coerce\")\n",
    "weather_data = _encode_dates(weather_data)\n",
    "weather_data = weather_data.drop_duplicates(subset=\"date\")\n",
    "weather_data.set_index(\"date\", inplace=True)\n",
    "weather_data = weather_data.resample(\"H\").interpolate(method=\"linear\")\n",
    "weather_data.reset_index(inplace=True)\n",
    "\n",
    "merged_data = pd.merge(train_data, weather_data, on=\"date\", how=\"left\")\n",
    "merged_data = merged_data.loc[:, ~merged_data.columns.str.endswith((\"_x\", \"_y\"))]\n",
    "\n",
    "def get_train_data(data=merged_data, target_column=\"log_bike_count\"):\n",
    "    data = data.sort_values([\"date\", \"counter_name\"])\n",
    "    y_array = data[target_column].values\n",
    "    # Keep the `bike_count` column for filtering in train-test split\n",
    "    X_df = data.drop([target_column], axis=1)\n",
    "    return X_df, y_array\n",
    "\n",
    "X, y = get_train_data(merged_data)\n",
    "\n",
    "# Split train and validation data\n",
    "def train_test_split_temporal(X, y, delta_threshold=\"30 days\"):\n",
    "    cutoff_date = X[\"date\"].max() - pd.Timedelta(delta_threshold)\n",
    "    mask = X[\"date\"] <= cutoff_date\n",
    "\n",
    "    # Split train and validation data\n",
    "    X_train, X_valid = X.loc[mask], X.loc[~mask]\n",
    "    y_train, y_valid = y[mask], y[~mask]\n",
    "\n",
    "    # Drop rows where bike_count == 0 in the training data\n",
    "    train_mask = X_train[\"bike_count\"] != 0\n",
    "    X_train = X_train.loc[train_mask]\n",
    "    y_train = y_train[train_mask]\n",
    "\n",
    "    # Drop `bike_count` from training and validation features after filtering\n",
    "    X_train = X_train.drop([\"bike_count\"], axis=1)\n",
    "    X_valid = X_valid.drop([\"bike_count\"], axis=1)\n",
    "\n",
    "    return X_train, y_train, X_valid, y_valid\n",
    "\n",
    "X_train, y_train, X_valid, y_valid = train_test_split_temporal(X, y)\n"
   ]
  },
  {
   "cell_type": "code",
   "execution_count": null,
   "metadata": {},
   "outputs": [],
   "source": []
  },
  {
   "cell_type": "code",
   "execution_count": 100,
   "metadata": {},
   "outputs": [
    {
     "name": "stdout",
     "output_type": "stream",
     "text": [
      "0\n",
      "1237\n"
     ]
    }
   ],
   "source": [
    "print((y_train == 0).sum())\n",
    "print((y_valid == 0). sum())"
   ]
  },
  {
   "cell_type": "code",
   "execution_count": 3,
   "metadata": {},
   "outputs": [
    {
     "ename": "FileNotFoundError",
     "evalue": "[Errno 2] No such file or directory: '/kaggle/input/msdb-2024/train.parquet'",
     "output_type": "error",
     "traceback": [
      "\u001b[1;31m---------------------------------------------------------------------------\u001b[0m",
      "\u001b[1;31mFileNotFoundError\u001b[0m                         Traceback (most recent call last)",
      "Cell \u001b[1;32mIn[3], line 39\u001b[0m\n\u001b[0;32m     36\u001b[0m     \u001b[38;5;28;01mreturn\u001b[39;00m data\n\u001b[0;32m     38\u001b[0m \u001b[38;5;66;03m#%% Load and preprocess train data\u001b[39;00m\n\u001b[1;32m---> 39\u001b[0m data \u001b[38;5;241m=\u001b[39m pd\u001b[38;5;241m.\u001b[39mread_parquet(\u001b[38;5;124m\"\u001b[39m\u001b[38;5;124m/kaggle/input/msdb-2024/train.parquet\u001b[39m\u001b[38;5;124m\"\u001b[39m) \u001b[38;5;66;03m# to load on Kaggle \u001b[39;00m\n\u001b[0;32m     40\u001b[0m \u001b[38;5;66;03m#data = pd.read_parquet(Path(\"data\") / \"train.parquet\") # to load locally\u001b[39;00m\n\u001b[0;32m     41\u001b[0m train_data \u001b[38;5;241m=\u001b[39m preprocess_data(data)\n",
      "File \u001b[1;32mc:\\Users\\louis\\anaconda3\\Lib\\site-packages\\pandas\\io\\parquet.py:667\u001b[0m, in \u001b[0;36mread_parquet\u001b[1;34m(path, engine, columns, storage_options, use_nullable_dtypes, dtype_backend, filesystem, filters, **kwargs)\u001b[0m\n\u001b[0;32m    664\u001b[0m     use_nullable_dtypes \u001b[38;5;241m=\u001b[39m \u001b[38;5;28;01mFalse\u001b[39;00m\n\u001b[0;32m    665\u001b[0m check_dtype_backend(dtype_backend)\n\u001b[1;32m--> 667\u001b[0m \u001b[38;5;28;01mreturn\u001b[39;00m impl\u001b[38;5;241m.\u001b[39mread(\n\u001b[0;32m    668\u001b[0m     path,\n\u001b[0;32m    669\u001b[0m     columns\u001b[38;5;241m=\u001b[39mcolumns,\n\u001b[0;32m    670\u001b[0m     filters\u001b[38;5;241m=\u001b[39mfilters,\n\u001b[0;32m    671\u001b[0m     storage_options\u001b[38;5;241m=\u001b[39mstorage_options,\n\u001b[0;32m    672\u001b[0m     use_nullable_dtypes\u001b[38;5;241m=\u001b[39muse_nullable_dtypes,\n\u001b[0;32m    673\u001b[0m     dtype_backend\u001b[38;5;241m=\u001b[39mdtype_backend,\n\u001b[0;32m    674\u001b[0m     filesystem\u001b[38;5;241m=\u001b[39mfilesystem,\n\u001b[0;32m    675\u001b[0m     \u001b[38;5;241m*\u001b[39m\u001b[38;5;241m*\u001b[39mkwargs,\n\u001b[0;32m    676\u001b[0m )\n",
      "File \u001b[1;32mc:\\Users\\louis\\anaconda3\\Lib\\site-packages\\pandas\\io\\parquet.py:267\u001b[0m, in \u001b[0;36mPyArrowImpl.read\u001b[1;34m(self, path, columns, filters, use_nullable_dtypes, dtype_backend, storage_options, filesystem, **kwargs)\u001b[0m\n\u001b[0;32m    264\u001b[0m \u001b[38;5;28;01mif\u001b[39;00m manager \u001b[38;5;241m==\u001b[39m \u001b[38;5;124m\"\u001b[39m\u001b[38;5;124marray\u001b[39m\u001b[38;5;124m\"\u001b[39m:\n\u001b[0;32m    265\u001b[0m     to_pandas_kwargs[\u001b[38;5;124m\"\u001b[39m\u001b[38;5;124msplit_blocks\u001b[39m\u001b[38;5;124m\"\u001b[39m] \u001b[38;5;241m=\u001b[39m \u001b[38;5;28;01mTrue\u001b[39;00m  \u001b[38;5;66;03m# type: ignore[assignment]\u001b[39;00m\n\u001b[1;32m--> 267\u001b[0m path_or_handle, handles, filesystem \u001b[38;5;241m=\u001b[39m _get_path_or_handle(\n\u001b[0;32m    268\u001b[0m     path,\n\u001b[0;32m    269\u001b[0m     filesystem,\n\u001b[0;32m    270\u001b[0m     storage_options\u001b[38;5;241m=\u001b[39mstorage_options,\n\u001b[0;32m    271\u001b[0m     mode\u001b[38;5;241m=\u001b[39m\u001b[38;5;124m\"\u001b[39m\u001b[38;5;124mrb\u001b[39m\u001b[38;5;124m\"\u001b[39m,\n\u001b[0;32m    272\u001b[0m )\n\u001b[0;32m    273\u001b[0m \u001b[38;5;28;01mtry\u001b[39;00m:\n\u001b[0;32m    274\u001b[0m     pa_table \u001b[38;5;241m=\u001b[39m \u001b[38;5;28mself\u001b[39m\u001b[38;5;241m.\u001b[39mapi\u001b[38;5;241m.\u001b[39mparquet\u001b[38;5;241m.\u001b[39mread_table(\n\u001b[0;32m    275\u001b[0m         path_or_handle,\n\u001b[0;32m    276\u001b[0m         columns\u001b[38;5;241m=\u001b[39mcolumns,\n\u001b[1;32m   (...)\u001b[0m\n\u001b[0;32m    279\u001b[0m         \u001b[38;5;241m*\u001b[39m\u001b[38;5;241m*\u001b[39mkwargs,\n\u001b[0;32m    280\u001b[0m     )\n",
      "File \u001b[1;32mc:\\Users\\louis\\anaconda3\\Lib\\site-packages\\pandas\\io\\parquet.py:140\u001b[0m, in \u001b[0;36m_get_path_or_handle\u001b[1;34m(path, fs, storage_options, mode, is_dir)\u001b[0m\n\u001b[0;32m    130\u001b[0m handles \u001b[38;5;241m=\u001b[39m \u001b[38;5;28;01mNone\u001b[39;00m\n\u001b[0;32m    131\u001b[0m \u001b[38;5;28;01mif\u001b[39;00m (\n\u001b[0;32m    132\u001b[0m     \u001b[38;5;129;01mnot\u001b[39;00m fs\n\u001b[0;32m    133\u001b[0m     \u001b[38;5;129;01mand\u001b[39;00m \u001b[38;5;129;01mnot\u001b[39;00m is_dir\n\u001b[1;32m   (...)\u001b[0m\n\u001b[0;32m    138\u001b[0m     \u001b[38;5;66;03m# fsspec resources can also point to directories\u001b[39;00m\n\u001b[0;32m    139\u001b[0m     \u001b[38;5;66;03m# this branch is used for example when reading from non-fsspec URLs\u001b[39;00m\n\u001b[1;32m--> 140\u001b[0m     handles \u001b[38;5;241m=\u001b[39m get_handle(\n\u001b[0;32m    141\u001b[0m         path_or_handle, mode, is_text\u001b[38;5;241m=\u001b[39m\u001b[38;5;28;01mFalse\u001b[39;00m, storage_options\u001b[38;5;241m=\u001b[39mstorage_options\n\u001b[0;32m    142\u001b[0m     )\n\u001b[0;32m    143\u001b[0m     fs \u001b[38;5;241m=\u001b[39m \u001b[38;5;28;01mNone\u001b[39;00m\n\u001b[0;32m    144\u001b[0m     path_or_handle \u001b[38;5;241m=\u001b[39m handles\u001b[38;5;241m.\u001b[39mhandle\n",
      "File \u001b[1;32mc:\\Users\\louis\\anaconda3\\Lib\\site-packages\\pandas\\io\\common.py:882\u001b[0m, in \u001b[0;36mget_handle\u001b[1;34m(path_or_buf, mode, encoding, compression, memory_map, is_text, errors, storage_options)\u001b[0m\n\u001b[0;32m    873\u001b[0m         handle \u001b[38;5;241m=\u001b[39m \u001b[38;5;28mopen\u001b[39m(\n\u001b[0;32m    874\u001b[0m             handle,\n\u001b[0;32m    875\u001b[0m             ioargs\u001b[38;5;241m.\u001b[39mmode,\n\u001b[1;32m   (...)\u001b[0m\n\u001b[0;32m    878\u001b[0m             newline\u001b[38;5;241m=\u001b[39m\u001b[38;5;124m\"\u001b[39m\u001b[38;5;124m\"\u001b[39m,\n\u001b[0;32m    879\u001b[0m         )\n\u001b[0;32m    880\u001b[0m     \u001b[38;5;28;01melse\u001b[39;00m:\n\u001b[0;32m    881\u001b[0m         \u001b[38;5;66;03m# Binary mode\u001b[39;00m\n\u001b[1;32m--> 882\u001b[0m         handle \u001b[38;5;241m=\u001b[39m \u001b[38;5;28mopen\u001b[39m(handle, ioargs\u001b[38;5;241m.\u001b[39mmode)\n\u001b[0;32m    883\u001b[0m     handles\u001b[38;5;241m.\u001b[39mappend(handle)\n\u001b[0;32m    885\u001b[0m \u001b[38;5;66;03m# Convert BytesIO or file objects passed with an encoding\u001b[39;00m\n",
      "\u001b[1;31mFileNotFoundError\u001b[0m: [Errno 2] No such file or directory: '/kaggle/input/msdb-2024/train.parquet'"
     ]
    }
   ],
   "source": [
    "# %% [code]\n",
    "#%%\n",
    "\n",
    "import pandas as pd\n",
    "from pathlib import Path\n",
    "import holidays\n",
    "import numpy as np\n",
    "from sklearn.model_selection import train_test_split\n",
    "from sklearn.preprocessing import FunctionTransformer, StandardScaler, OneHotEncoder\n",
    "from sklearn.compose import ColumnTransformer\n",
    "from sklearn.impute import SimpleImputer\n",
    "from sklearn.pipeline import make_pipeline\n",
    "from sklearn.metrics import mean_squared_error\n",
    "from sklearn.ensemble import RandomForestRegressor, GradientBoostingRegressor\n",
    "from xgboost import XGBRegressor\n",
    "from sklearn.neural_network import MLPRegressor\n",
    "from time import time\n",
    "\n",
    "# Function to encode dates\n",
    "def _encode_dates(X):\n",
    "    X = X.copy()\n",
    "    X[\"year\"] = X[\"date\"].dt.year\n",
    "    X[\"month\"] = X[\"date\"].dt.month\n",
    "    X[\"day\"] = X[\"date\"].dt.day\n",
    "    X[\"weekday\"] = X[\"date\"].dt.weekday\n",
    "    X[\"hour\"] = X[\"date\"].dt.hour\n",
    "    return X\n",
    "\n",
    "# Function to preprocess data\n",
    "def preprocess_data(data):\n",
    "    data = data.copy()\n",
    "    data = _encode_dates(data)\n",
    "    data[\"weekend\"] = (data[\"weekday\"] > 4).astype(int)\n",
    "    FR_holidays = holidays.FR(years=range(2019, 2022))\n",
    "    data[\"FR_holidays\"] = data[\"date\"].dt.date.isin(FR_holidays).astype(int)\n",
    "    return data\n",
    "\n",
    "#%% Load and preprocess train data\n",
    "#data = pd.read_parquet(\"/kaggle/input/msdb-2024/train.parquet\") # to load on Kaggle \n",
    "data = pd.read_parquet(Path(\"data\") / \"train.parquet\") # to load locally\n",
    "train_data = preprocess_data(data)\n",
    "\n",
    "weather_data = pd.read_csv(\"/kaggle/input/msdb-2024/external_data.csv\") # to load on Kaggle\n",
    "#weather_data = pd.read_csv(Path(\"data\") / \"external_data.csv\")\n",
    "weather_data[\"date\"] = pd.to_datetime(weather_data[\"date\"], errors=\"coerce\")\n",
    "weather_data = _encode_dates(weather_data)\n",
    "weather_data = weather_data.drop_duplicates(subset=\"date\")\n",
    "weather_data.set_index(\"date\", inplace=True)\n",
    "weather_data = weather_data.resample(\"H\").interpolate(method=\"linear\")\n",
    "weather_data.reset_index(inplace=True)\n",
    "\n",
    "merged_data = pd.merge(train_data, weather_data, on=\"date\", how=\"left\")\n",
    "merged_data = merged_data.loc[:, ~merged_data.columns.str.endswith((\"_x\", \"_y\"))]\n",
    "\n",
    "def get_train_data(data=merged_data, target_column=\"log_bike_count\"):\n",
    "    data = data.sort_values([\"date\", \"counter_name\"])\n",
    "    y_array = data[target_column].values\n",
    "    # Keep the `bike_count` column for filtering in train-test split\n",
    "    X_df = data.drop([target_column], axis=1)\n",
    "    return X_df, y_array\n",
    "\n",
    "X, y = get_train_data(merged_data)\n",
    "\n",
    "# Split train and validation data\n",
    "def train_test_split_temporal(X, y, delta_threshold=\"30 days\"):\n",
    "    cutoff_date = X[\"date\"].max() - pd.Timedelta(delta_threshold)\n",
    "    mask = X[\"date\"] <= cutoff_date\n",
    "\n",
    "    # Split train and validation data\n",
    "    X_train, X_valid = X.loc[mask], X.loc[~mask]\n",
    "    y_train, y_valid = y[mask], y[~mask]\n",
    "\n",
    "    # Drop rows where bike_count == 0 in the training data\n",
    "    train_mask = X_train[\"bike_count\"] != 0\n",
    "    X_train = X_train.loc[train_mask]\n",
    "    y_train = y_train[train_mask]\n",
    "\n",
    "    # Drop `bike_count` from training and validation features after filtering\n",
    "    X_train = X_train.drop([\"bike_count\"], axis=1)\n",
    "    X_valid = X_valid.drop([\"bike_count\"], axis=1)\n",
    "\n",
    "    return X_train, y_train, X_valid, y_valid\n",
    "\n",
    "X_train, y_train, X_valid, y_valid = train_test_split_temporal(X, y)\n",
    "\n",
    "\n",
    "#%% Define preprocessing pipeline\n",
    "date_encoder = FunctionTransformer(_encode_dates)\n",
    "date_cols = _encode_dates(X_train[[\"date\"]]).columns.tolist()\n",
    "#date_cols = [col for col in date_cols if col != \"day\"]\n",
    "\n",
    "categorical_encoder = OneHotEncoder(handle_unknown=\"ignore\")\n",
    "categorical_cols = [\"counter_name\", \"site_name\"]\n",
    "\n",
    "numerical_encoder = make_pipeline(\n",
    "    SimpleImputer(strategy=\"mean\"),\n",
    "    StandardScaler()\n",
    ")\n",
    "numerical_corr_cols = [\"u\", \"t\", \"tx12\", \"tn12\", \"rafper\", \"td\", \"raf10\", \"ff\", \"nnuage3\", \"vv\"]\n",
    "\n",
    "binary_cols = [\"weekend\", \"FR_holidays\"]\n",
    "\n",
    "preprocessor = ColumnTransformer(\n",
    "    [\n",
    "        (\"date\", OneHotEncoder(handle_unknown=\"ignore\"), date_cols),\n",
    "        (\"cat\", categorical_encoder, categorical_cols),\n",
    "        #(\"num\", numerical_encoder, numerical_corr_cols),\n",
    "        (\"binary\", \"passthrough\", binary_cols)\n",
    "    ]\n",
    ")\n",
    "\n",
    "regressor = XGBRegressor(random_state=42, max_depth=10, n_estimators=200, learning_rate=0.3)\n",
    "\n",
    "\n",
    "#%%\n",
    "start = time()\n",
    "pipe = make_pipeline(date_encoder, preprocessor, regressor)\n",
    "pipe.fit(X_train, y_train)\n",
    "elapsed_time = time() - start\n",
    "print(f\"Training time for GradientBoosting: {elapsed_time:.2f} seconds\")\n",
    "print(f\"Train set, RMSE={mean_squared_error(y_train, pipe.predict(X_train), squared=False):.2f}\")\n",
    "print(f\"Valid set, RMSE={mean_squared_error(y_valid, pipe.predict(X_valid), squared=False):.2f}\")\n",
    "\n",
    "test_data = pd.read_parquet(\"/kaggle/input/msdb-2024/final_test.parquet\") # to load on Kaggle\n",
    "#test_data = pd.read_parquet(Path(\"data\") / \"final_test.parquet\") # to load locally\n",
    "test_data = preprocess_data(test_data)\n",
    "\n",
    "merged_data = pd.merge(test_data, weather_data, on=\"date\", how=\"left\") # merge test and weather data\n",
    "merged_data = merged_data.loc[:, ~merged_data.columns.str.endswith((\"_x\", \"_y\"))] # Drop redundant date columns \n",
    "\n",
    "\n",
    "X_test = merged_data\n",
    "y_pred = pipe.predict(X_test)\n",
    "results = pd.DataFrame(\n",
    "    dict(\n",
    "        Id=np.arange(y_pred.shape[0]),\n",
    "        log_bike_count=y_pred,\n",
    "    )\n",
    ")\n",
    "output_path = \"submission_final.csv\"\n",
    "results.to_csv(output_path, index=False)\n",
    "print(f\"Predictions saved to {output_path}\")\n",
    "\n",
    "#%%\n",
    "\n",
    "pipe"
   ]
  },
  {
   "cell_type": "markdown",
   "metadata": {},
   "source": [
    "## Dropping rows only if the whole day was defect"
   ]
  },
  {
   "cell_type": "code",
   "execution_count": 90,
   "metadata": {},
   "outputs": [
    {
     "name": "stdout",
     "output_type": "stream",
     "text": [
      "40164\n",
      "1237\n"
     ]
    }
   ],
   "source": [
    "print((y_train == 0).sum())\n",
    "print((y_valid == 0). sum())"
   ]
  },
  {
   "cell_type": "code",
   "execution_count": 76,
   "metadata": {},
   "outputs": [
    {
     "name": "stdout",
     "output_type": "stream",
     "text": [
      "Training time for GradientBoosting with weather: 6.30 seconds\n"
     ]
    },
    {
     "name": "stderr",
     "output_type": "stream",
     "text": [
      "c:\\Users\\louis\\anaconda3\\Lib\\site-packages\\sklearn\\metrics\\_regression.py:492: FutureWarning: 'squared' is deprecated in version 1.4 and will be removed in 1.6. To calculate the root mean squared error, use the function'root_mean_squared_error'.\n",
      "  warnings.warn(\n",
      "c:\\Users\\louis\\anaconda3\\Lib\\site-packages\\sklearn\\metrics\\_regression.py:492: FutureWarning: 'squared' is deprecated in version 1.4 and will be removed in 1.6. To calculate the root mean squared error, use the function'root_mean_squared_error'.\n",
      "  warnings.warn(\n"
     ]
    },
    {
     "name": "stdout",
     "output_type": "stream",
     "text": [
      "Train set, RMSE=0.40\n",
      "Valid set, RMSE=0.48\n",
      "Predictions saved to submission_XGB_without_weather_day_zeros_dropped,d=10,n=100,l=0.3.csv\n"
     ]
    }
   ],
   "source": [
    "# Best model without weather data\n",
    "# 0.72 for  depth = 10, n = 100, lr = 0.3\n",
    "\n",
    "\n",
    "#%% Define preprocessing pipeline\n",
    "date_encoder = FunctionTransformer(_encode_dates)\n",
    "date_cols = _encode_dates(X_train[[\"date\"]]).columns.tolist()\n",
    "date_cols = [col for col in date_cols if col != \"day\"]\n",
    "\n",
    "categorical_encoder = OneHotEncoder(handle_unknown=\"ignore\")\n",
    "categorical_cols = [\"counter_name\", \"site_name\"]\n",
    "\n",
    "numerical_encoder = make_pipeline(\n",
    "    SimpleImputer(strategy=\"mean\"),\n",
    "    StandardScaler()\n",
    ")\n",
    "numerical_corr_cols = [\"u\", \"t\", \"tx12\", \"tn12\", \"rafper\", \"td\", \"raf10\", \"ff\", \"nnuage3\", \"vv\"]\n",
    "\n",
    "binary_cols = [\"weekend\", \"FR_holidays\"]\n",
    "\n",
    "preprocessor = ColumnTransformer(\n",
    "    [\n",
    "        (\"date\", OneHotEncoder(handle_unknown=\"ignore\"), date_cols),\n",
    "        (\"cat\", categorical_encoder, categorical_cols),\n",
    "        #(\"num\", numerical_encoder, numerical_corr_cols),\n",
    "        (\"binary\", \"passthrough\", binary_cols)\n",
    "    ]\n",
    ")\n",
    "\n",
    "\n",
    "# 2. XGB Regressor\n",
    "# Without weather data\n",
    "\n",
    "regressor = XGBRegressor(random_state=42, max_depth=10, n_estimators=100, learning_rate=0.3)\n",
    "\n",
    "preprocessor = ColumnTransformer(\n",
    "    [\n",
    "        (\"date\", OneHotEncoder(handle_unknown=\"ignore\"), date_cols),\n",
    "        (\"cat\", categorical_encoder, categorical_cols),\n",
    "        #(\"num\", numerical_encoder, numerical_corr_cols),\n",
    "        (\"binary\", \"passthrough\", binary_cols)\n",
    "    ]\n",
    ")\n",
    "\n",
    "#%%\n",
    "start = time()\n",
    "pipe = make_pipeline(date_encoder, preprocessor, regressor)\n",
    "pipe.fit(X_train, y_train)\n",
    "elapsed_time = time() - start\n",
    "print(f\"Training time for GradientBoosting with weather: {elapsed_time:.2f} seconds\")\n",
    "print(f\"Train set, RMSE={mean_squared_error(y_train, pipe.predict(X_train), squared=False):.2f}\")\n",
    "print(f\"Valid set, RMSE={mean_squared_error(y_valid, pipe.predict(X_valid), squared=False):.2f}\")\n",
    "\n",
    "# Save predictions\n",
    "\n",
    "#test_data = pd.read_parquet(\"/kaggle/input/msdb-2024/final_test.parquet\") # to load on Kaggle\n",
    "test_data = pd.read_parquet(Path(\"data\") / \"final_test.parquet\") # to load locally\n",
    "test_data = preprocess_data(test_data)\n",
    "\n",
    "merged_data = pd.merge(test_data, weather_data, on=\"date\", how=\"left\") # merge test and weather data\n",
    "merged_data = merged_data.loc[:, ~merged_data.columns.str.endswith((\"_x\", \"_y\"))] # Drop redundant date columns \n",
    "\n",
    "\n",
    "X_test = merged_data\n",
    "y_pred = pipe.predict(X_test)\n",
    "results = pd.DataFrame(\n",
    "    dict(\n",
    "        Id=np.arange(y_pred.shape[0]),\n",
    "        log_bike_count=y_pred,\n",
    "    )\n",
    ")\n",
    "output_path = \"submission_XGB_without_weather_day_zeros_dropped,d=10,n=100,l=0.3.csv\"\n",
    "results.to_csv(output_path, index=False)\n",
    "print(f\"Predictions saved to {output_path}\")\n",
    "\n",
    "#%%\n",
    "\n"
   ]
  },
  {
   "cell_type": "markdown",
   "metadata": {},
   "source": [
    "## Below, too many n_estimators and higher learning rate did not help"
   ]
  },
  {
   "cell_type": "code",
   "execution_count": 11,
   "metadata": {},
   "outputs": [
    {
     "name": "stdout",
     "output_type": "stream",
     "text": [
      "Training time for GradientBoosting with weather: 20.27 seconds\n"
     ]
    },
    {
     "name": "stderr",
     "output_type": "stream",
     "text": [
      "c:\\Users\\louis\\anaconda3\\Lib\\site-packages\\sklearn\\metrics\\_regression.py:492: FutureWarning: 'squared' is deprecated in version 1.4 and will be removed in 1.6. To calculate the root mean squared error, use the function'root_mean_squared_error'.\n",
      "  warnings.warn(\n"
     ]
    },
    {
     "name": "stdout",
     "output_type": "stream",
     "text": [
      "Train set, RMSE=0.37\n"
     ]
    },
    {
     "name": "stderr",
     "output_type": "stream",
     "text": [
      "c:\\Users\\louis\\anaconda3\\Lib\\site-packages\\sklearn\\metrics\\_regression.py:492: FutureWarning: 'squared' is deprecated in version 1.4 and will be removed in 1.6. To calculate the root mean squared error, use the function'root_mean_squared_error'.\n",
      "  warnings.warn(\n"
     ]
    },
    {
     "name": "stdout",
     "output_type": "stream",
     "text": [
      "Valid set, RMSE=0.49\n",
      "Predictions saved to submission_XGB_with_weather_d=10,n=500,l=0.5.csv\n"
     ]
    }
   ],
   "source": [
    "# 2. XGB Regressor\n",
    "# With weather data\n",
    "\n",
    "regressor = XGBRegressor(random_state=42, max_depth=10, n_estimators=500, learning_rate = 0.5)\n",
    "\n",
    "preprocessor = ColumnTransformer(\n",
    "    [\n",
    "        (\"date\", OneHotEncoder(handle_unknown=\"ignore\"), date_cols),\n",
    "        (\"cat\", categorical_encoder, categorical_cols),\n",
    "        (\"num\", numerical_encoder, numerical_corr_cols),\n",
    "        (\"binary\", \"passthrough\", binary_cols)\n",
    "    ]\n",
    ")\n",
    "\n",
    "#%%\n",
    "start = time()\n",
    "pipe = make_pipeline(date_encoder, preprocessor, regressor)\n",
    "pipe.fit(X_train, y_train)\n",
    "elapsed_time = time() - start\n",
    "print(f\"Training time for GradientBoosting with weather: {elapsed_time:.2f} seconds\")\n",
    "print(f\"Train set, RMSE={mean_squared_error(y_train, pipe.predict(X_train), squared=False):.2f}\")\n",
    "print(f\"Valid set, RMSE={mean_squared_error(y_valid, pipe.predict(X_valid), squared=False):.2f}\")\n",
    "\n",
    "# Save predictions\n",
    "X_test = merged_data\n",
    "y_pred = pipe.predict(X_test)\n",
    "results = pd.DataFrame(\n",
    "    dict(\n",
    "        Id=np.arange(y_pred.shape[0]),\n",
    "        log_bike_count=y_pred,\n",
    "    )\n",
    ")\n",
    "output_path = \"submission_XGB_with_weather_d=10,n=500,l=0.5.csv\"\n",
    "results.to_csv(output_path, index=False)\n",
    "print(f\"Predictions saved to {output_path}\")\n",
    "\n",
    "#%%\n"
   ]
  },
  {
   "cell_type": "code",
   "execution_count": 12,
   "metadata": {},
   "outputs": [
    {
     "name": "stdout",
     "output_type": "stream",
     "text": [
      "Training time for GradientBoosting with weather: 36.26 seconds\n"
     ]
    },
    {
     "name": "stderr",
     "output_type": "stream",
     "text": [
      "c:\\Users\\louis\\anaconda3\\Lib\\site-packages\\sklearn\\metrics\\_regression.py:492: FutureWarning: 'squared' is deprecated in version 1.4 and will be removed in 1.6. To calculate the root mean squared error, use the function'root_mean_squared_error'.\n",
      "  warnings.warn(\n"
     ]
    },
    {
     "name": "stdout",
     "output_type": "stream",
     "text": [
      "Train set, RMSE=0.31\n"
     ]
    },
    {
     "name": "stderr",
     "output_type": "stream",
     "text": [
      "c:\\Users\\louis\\anaconda3\\Lib\\site-packages\\sklearn\\metrics\\_regression.py:492: FutureWarning: 'squared' is deprecated in version 1.4 and will be removed in 1.6. To calculate the root mean squared error, use the function'root_mean_squared_error'.\n",
      "  warnings.warn(\n"
     ]
    },
    {
     "name": "stdout",
     "output_type": "stream",
     "text": [
      "Valid set, RMSE=0.52\n",
      "Predictions saved to submission_XGB_with_weather_d=12,n=500,l=0.6.csv\n"
     ]
    }
   ],
   "source": [
    "# 2. XGB Regressor\n",
    "# With weather data\n",
    "\n",
    "regressor = XGBRegressor(random_state=42, max_depth=12, n_estimators=500, learning_rate = 0.6)\n",
    "\n",
    "preprocessor = ColumnTransformer(\n",
    "    [\n",
    "        (\"date\", OneHotEncoder(handle_unknown=\"ignore\"), date_cols),\n",
    "        (\"cat\", categorical_encoder, categorical_cols),\n",
    "        (\"num\", numerical_encoder, numerical_corr_cols),\n",
    "        (\"binary\", \"passthrough\", binary_cols)\n",
    "    ]\n",
    ")\n",
    "\n",
    "#%%\n",
    "start = time()\n",
    "pipe = make_pipeline(date_encoder, preprocessor, regressor)\n",
    "pipe.fit(X_train, y_train)\n",
    "elapsed_time = time() - start\n",
    "print(f\"Training time for GradientBoosting with weather: {elapsed_time:.2f} seconds\")\n",
    "print(f\"Train set, RMSE={mean_squared_error(y_train, pipe.predict(X_train), squared=False):.2f}\")\n",
    "print(f\"Valid set, RMSE={mean_squared_error(y_valid, pipe.predict(X_valid), squared=False):.2f}\")\n",
    "\n",
    "# Save predictions\n",
    "X_test = merged_data\n",
    "y_pred = pipe.predict(X_test)\n",
    "results = pd.DataFrame(\n",
    "    dict(\n",
    "        Id=np.arange(y_pred.shape[0]),\n",
    "        log_bike_count=y_pred,\n",
    "    )\n",
    ")\n",
    "output_path = \"submission_XGB_with_weather_d=12,n=500,l=0.6.csv\"\n",
    "results.to_csv(output_path, index=False)\n",
    "print(f\"Predictions saved to {output_path}\")\n",
    "\n",
    "#%%\n"
   ]
  },
  {
   "cell_type": "markdown",
   "metadata": {},
   "source": [
    "# 2. SVR"
   ]
  },
  {
   "cell_type": "code",
   "execution_count": null,
   "metadata": {},
   "outputs": [],
   "source": [
    "## NOT FINISHED AFTER 2 HOURS\n",
    "\n",
    "# # 2. SVR\n",
    "# from sklearn.svm import SVR\n",
    "\n",
    "# regressor = SVR(kernel='rbf', C=1.0, epsilon=0.2)\n",
    "\n",
    "# # Without weather data\n",
    "# preprocessor = ColumnTransformer(\n",
    "#     [\n",
    "#         (\"date\", OneHotEncoder(handle_unknown=\"ignore\"), date_cols),\n",
    "#         (\"cat\", categorical_encoder, categorical_cols),\n",
    "#         #(\"num\", numerical_encoder, numerical_corr_cols),\n",
    "#         (\"binary\", \"passthrough\", binary_cols)\n",
    "#     ]\n",
    "# )\n",
    "\n",
    "# #%%\n",
    "# start = time()\n",
    "# pipe = make_pipeline(date_encoder, preprocessor, regressor)\n",
    "# pipe.fit(X_train, y_train)\n",
    "# elapsed_time = time() - start\n",
    "# print(f\"Training time for SVR without weather: {elapsed_time:.2f} seconds\")\n",
    "# print(f\"Train set, RMSE={mean_squared_error(y_train, pipe.predict(X_train), squared=False):.2f}\")\n",
    "# print(f\"Valid set, RMSE={mean_squared_error(y_valid, pipe.predict(X_valid), squared=False):.2f}\")\n",
    "\n",
    "# # Save predictions\n",
    "# X_test = merged_data\n",
    "# y_pred = pipe.predict(X_test)\n",
    "# results = pd.DataFrame(\n",
    "#     dict(\n",
    "#         Id=np.arange(y_pred.shape[0]),\n",
    "#         log_bike_count=y_pred,\n",
    "#     )\n",
    "# )\n",
    "# output_path = \"submission_svr_without_weather.csv\"\n",
    "# results.to_csv(output_path, index=False)\n",
    "# print(f\"Predictions saved to {output_path}\")\n",
    "\n",
    "# # With weather data\n",
    "# preprocessor = ColumnTransformer(\n",
    "#     [\n",
    "#         (\"date\", OneHotEncoder(handle_unknown=\"ignore\"), date_cols),\n",
    "#         (\"cat\", categorical_encoder, categorical_cols),\n",
    "#         (\"num\", numerical_encoder, numerical_corr_cols),\n",
    "#         (\"binary\", \"passthrough\", binary_cols)\n",
    "#     ]\n",
    "# )\n",
    "\n",
    "# #%%\n",
    "# start = time()\n",
    "# pipe = make_pipeline(date_encoder, preprocessor, regressor)\n",
    "# pipe.fit(X_train, y_train)\n",
    "# elapsed_time = time() - start\n",
    "# print(f\"Training time for SVR with weather: {elapsed_time:.2f} seconds\")\n",
    "# print(f\"Train set, RMSE={mean_squared_error(y_train, pipe.predict(X_train), squared=False):.2f}\")\n",
    "# print(f\"Valid set, RMSE={mean_squared_error(y_valid, pipe.predict(X_valid), squared=False):.2f}\")\n",
    "\n",
    "# # Save predictions\n",
    "# X_test = merged_data\n",
    "# y_pred = pipe.predict(X_test)\n",
    "# results = pd.DataFrame(\n",
    "#     dict(\n",
    "#         Id=np.arange(y_pred.shape[0]),\n",
    "#         log_bike_count=y_pred,\n",
    "#     )\n",
    "# )\n",
    "# output_path = \"submission_svr_with_weather.csv\"\n",
    "# results.to_csv(output_path, index=False)\n",
    "# print(f\"Predictions saved to {output_path}\")\n",
    "\n",
    "# #%%\n"
   ]
  },
  {
   "cell_type": "markdown",
   "metadata": {},
   "source": [
    "# 3. KNeighborsRegressor"
   ]
  },
  {
   "cell_type": "code",
   "execution_count": null,
   "metadata": {},
   "outputs": [],
   "source": [
    "\n",
    "# 3. KNeighborsRegressor\n",
    "from sklearn.neighbors import KNeighborsRegressor\n",
    "\n",
    "regressor = KNeighborsRegressor(n_neighbors=5, weights='distance', n_jobs=-1)\n",
    "\n",
    "# Without weather data\n",
    "preprocessor = ColumnTransformer(\n",
    "    [\n",
    "        (\"date\", OneHotEncoder(handle_unknown=\"ignore\"), date_cols),\n",
    "        (\"cat\", categorical_encoder, categorical_cols),\n",
    "        #(\"num\", numerical_encoder, numerical_corr_cols),\n",
    "        (\"binary\", \"passthrough\", binary_cols)\n",
    "    ]\n",
    ")\n",
    "\n",
    "#%%\n",
    "start = time()\n",
    "pipe = make_pipeline(date_encoder, preprocessor, regressor)\n",
    "pipe.fit(X_train, y_train)\n",
    "elapsed_time = time() - start\n",
    "print(f\"Training time for KNN without weather: {elapsed_time:.2f} seconds\")\n",
    "print(f\"Train set, RMSE={mean_squared_error(y_train, pipe.predict(X_train), squared=False):.2f}\")\n",
    "print(f\"Valid set, RMSE={mean_squared_error(y_valid, pipe.predict(X_valid), squared=False):.2f}\")\n",
    "\n",
    "# Save predictions\n",
    "X_test = merged_data\n",
    "y_pred = pipe.predict(X_test)\n",
    "results = pd.DataFrame(\n",
    "    dict(\n",
    "        Id=np.arange(y_pred.shape[0]),\n",
    "        log_bike_count=y_pred,\n",
    "    )\n",
    ")\n",
    "output_path = \"submission_knn_without_weather.csv\"\n",
    "results.to_csv(output_path, index=False)\n",
    "print(f\"Predictions saved to {output_path}\")\n",
    "\n"
   ]
  },
  {
   "cell_type": "code",
   "execution_count": null,
   "metadata": {},
   "outputs": [],
   "source": [
    "\n",
    "# With weather data\n",
    "preprocessor = ColumnTransformer(\n",
    "    [\n",
    "        (\"date\", OneHotEncoder(handle_unknown=\"ignore\"), date_cols),\n",
    "        (\"cat\", categorical_encoder, categorical_cols),\n",
    "        (\"num\", numerical_encoder, numerical_corr_cols),\n",
    "        (\"binary\", \"passthrough\", binary_cols)\n",
    "    ]\n",
    ")\n",
    "\n",
    "#%%\n",
    "start = time()\n",
    "pipe = make_pipeline(date_encoder, preprocessor, regressor)\n",
    "pipe.fit(X_train, y_train)\n",
    "elapsed_time = time() - start\n",
    "print(f\"Training time for KNN with weather: {elapsed_time:.2f} seconds\")\n",
    "print(f\"Train set, RMSE={mean_squared_error(y_train, pipe.predict(X_train), squared=False):.2f}\")\n",
    "print(f\"Valid set, RMSE={mean_squared_error(y_valid, pipe.predict(X_valid), squared=False):.2f}\")\n",
    "\n",
    "# Save predictions\n",
    "X_test = merged_data\n",
    "y_pred = pipe.predict(X_test)\n",
    "results = pd.DataFrame(\n",
    "    dict(\n",
    "        Id=np.arange(y_pred.shape[0]),\n",
    "        log_bike_count=y_pred,\n",
    "    )\n",
    ")\n",
    "output_path = \"submission_knn_with_weather.csv\"\n",
    "results.to_csv(output_path, index=False)\n",
    "print(f\"Predictions saved to {output_path}\")\n",
    "\n",
    "#%%"
   ]
  },
  {
   "cell_type": "markdown",
   "metadata": {},
   "source": [
    "# 4. ElasticNet"
   ]
  },
  {
   "cell_type": "code",
   "execution_count": null,
   "metadata": {},
   "outputs": [],
   "source": [
    "\n",
    "# 4. ElasticNet\n",
    "from sklearn.linear_model import ElasticNet\n",
    "\n",
    "regressor = ElasticNet(alpha=1.0, l1_ratio=0.5, random_state=42)\n",
    "\n",
    "# Without weather data\n",
    "preprocessor = ColumnTransformer(\n",
    "    [\n",
    "        (\"date\", OneHotEncoder(handle_unknown=\"ignore\"), date_cols),\n",
    "        (\"cat\", categorical_encoder, categorical_cols),\n",
    "        #(\"num\", numerical_encoder, numerical_corr_cols),\n",
    "        (\"binary\", \"passthrough\", binary_cols)\n",
    "    ]\n",
    ")\n",
    "\n",
    "#%%\n",
    "start = time()\n",
    "pipe = make_pipeline(date_encoder, preprocessor, regressor)\n",
    "pipe.fit(X_train, y_train)\n",
    "elapsed_time = time() - start\n",
    "print(f\"Training time for ElasticNet without weather: {elapsed_time:.2f} seconds\")\n",
    "print(f\"Train set, RMSE={mean_squared_error(y_train, pipe.predict(X_train), squared=False):.2f}\")\n",
    "print(f\"Valid set, RMSE={mean_squared_error(y_valid, pipe.predict(X_valid), squared=False):.2f}\")\n",
    "\n",
    "# Save predictions\n",
    "X_test = merged_data\n",
    "y_pred = pipe.predict(X_test)\n",
    "results = pd.DataFrame(\n",
    "    dict(\n",
    "        Id=np.arange(y_pred.shape[0]),\n",
    "        log_bike_count=y_pred,\n",
    "    )\n",
    ")\n",
    "output_path = \"submission_elasticnet_without_weather.csv\"\n",
    "results.to_csv(output_path, index=False)\n",
    "print(f\"Predictions saved to {output_path}\")\n",
    "\n"
   ]
  },
  {
   "cell_type": "code",
   "execution_count": null,
   "metadata": {},
   "outputs": [],
   "source": [
    "\n",
    "# With weather data\n",
    "preprocessor = ColumnTransformer(\n",
    "    [\n",
    "        (\"date\", OneHotEncoder(handle_unknown=\"ignore\"), date_cols),\n",
    "        (\"cat\", categorical_encoder, categorical_cols),\n",
    "        (\"num\", numerical_encoder, numerical_corr_cols),\n",
    "        (\"binary\", \"passthrough\", binary_cols)\n",
    "    ]\n",
    ")\n",
    "\n",
    "#%%\n",
    "start = time()\n",
    "pipe = make_pipeline(date_encoder, preprocessor, regressor)\n",
    "pipe.fit(X_train, y_train)\n",
    "elapsed_time = time() - start\n",
    "print(f\"Training time for ElasticNet with weather: {elapsed_time:.2f} seconds\")\n",
    "print(f\"Train set, RMSE={mean_squared_error(y_train, pipe.predict(X_train), squared=False):.2f}\")\n",
    "print(f\"Valid set, RMSE={mean_squared_error(y_valid, pipe.predict(X_valid), squared=False):.2f}\")\n",
    "\n",
    "# Save predictions\n",
    "X_test = merged_data\n",
    "y_pred = pipe.predict(X_test)\n",
    "results = pd.DataFrame(\n",
    "    dict(\n",
    "        Id=np.arange(y_pred.shape[0]),\n",
    "        log_bike_count=y_pred,\n",
    "    )\n",
    ")\n",
    "output_path = \"submission_elasticnet_with_weather.csv\"\n",
    "results.to_csv(output_path, index=False)\n",
    "print(f\"Predictions saved to {output_path}\")\n",
    "\n",
    "#%%"
   ]
  },
  {
   "cell_type": "markdown",
   "metadata": {},
   "source": [
    "# 5. AdaBoost"
   ]
  },
  {
   "cell_type": "code",
   "execution_count": null,
   "metadata": {},
   "outputs": [],
   "source": [
    "\n",
    "# 5. AdaBoostRegressor\n",
    "from sklearn.ensemble import AdaBoostRegressor\n",
    "\n",
    "regressor = AdaBoostRegressor(random_state=42, n_estimators=50)\n",
    "\n",
    "# Without weather data\n",
    "preprocessor = ColumnTransformer(\n",
    "    [\n",
    "        (\"date\", OneHotEncoder(handle_unknown=\"ignore\"), date_cols),\n",
    "        (\"cat\", categorical_encoder, categorical_cols),\n",
    "        #(\"num\", numerical_encoder, numerical_corr_cols),\n",
    "        (\"binary\", \"passthrough\", binary_cols)\n",
    "    ]\n",
    ")\n",
    "\n",
    "#%%\n",
    "start = time()\n",
    "pipe = make_pipeline(date_encoder, preprocessor, regressor)\n",
    "pipe.fit(X_train, y_train)\n",
    "elapsed_time = time() - start\n",
    "print(f\"Training time for AdaBoost without weather: {elapsed_time:.2f} seconds\")\n",
    "print(f\"Train set, RMSE={mean_squared_error(y_train, pipe.predict(X_train), squared=False):.2f}\")\n",
    "print(f\"Valid set, RMSE={mean_squared_error(y_valid, pipe.predict(X_valid), squared=False):.2f}\")\n",
    "\n",
    "# Save predictions\n",
    "X_test = merged_data\n",
    "y_pred = pipe.predict(X_test)\n",
    "results = pd.DataFrame(\n",
    "    dict(\n",
    "        Id=np.arange(y_pred.shape[0]),\n",
    "        log_bike_count=y_pred,\n",
    "    )\n",
    ")\n",
    "output_path = \"submission_adaboost_without_weather.csv\"\n",
    "results.to_csv(output_path, index=False)\n",
    "print(f\"Predictions saved to {output_path}\")\n"
   ]
  },
  {
   "cell_type": "code",
   "execution_count": null,
   "metadata": {},
   "outputs": [],
   "source": [
    "\n",
    "# With weather data\n",
    "preprocessor = ColumnTransformer(\n",
    "    [\n",
    "        (\"date\", OneHotEncoder(handle_unknown=\"ignore\"), date_cols),\n",
    "        (\"cat\", categorical_encoder, categorical_cols),\n",
    "        (\"num\", numerical_encoder, numerical_corr_cols),\n",
    "        (\"binary\", \"passthrough\", binary_cols)\n",
    "    ]\n",
    ")\n",
    "\n",
    "#%%\n",
    "start = time()\n",
    "pipe = make_pipeline(date_encoder, preprocessor, regressor)\n",
    "pipe.fit(X_train, y_train)\n",
    "elapsed_time = time() - start\n",
    "print(f\"Training time for AdaBoost with weather: {elapsed_time:.2f} seconds\")\n",
    "print(f\"Train set, RMSE={mean_squared_error(y_train, pipe.predict(X_train), squared=False):.2f}\")\n",
    "print(f\"Valid set, RMSE={mean_squared_error(y_valid, pipe.predict(X_valid), squared=False):.2f}\")\n",
    "\n",
    "# Save predictions\n",
    "X_test = merged_data\n",
    "y_pred = pipe.predict(X_test)\n",
    "results = pd.DataFrame(\n",
    "    dict(\n",
    "        Id=np.arange(y_pred.shape[0]),\n",
    "        log_bike_count=y_pred,\n",
    "    )\n",
    ")\n",
    "output_path = \"submission_adaboost_with_weather.csv\"\n",
    "results.to_csv(output_path, index=False)\n",
    "print(f\"Predictions saved to {output_path}\")"
   ]
  },
  {
   "cell_type": "markdown",
   "metadata": {},
   "source": [
    "# 6. Decision Tree Regressor"
   ]
  },
  {
   "cell_type": "code",
   "execution_count": null,
   "metadata": {},
   "outputs": [],
   "source": [
    "\n",
    "# # 6. DecisionTreeRegressor\n",
    "# from sklearn.tree import DecisionTreeRegressor\n",
    "\n",
    "# regressor = DecisionTreeRegressor(random_state=42, max_depth=10)\n",
    "\n",
    "# # Without weather data\n",
    "# preprocessor = ColumnTransformer(\n",
    "#     [\n",
    "#         (\"date\", OneHotEncoder(handle_unknown=\"ignore\"), date_cols),\n",
    "#         (\"cat\", categorical_encoder, categorical_cols),\n",
    "#         #(\"num\", numerical_encoder, numerical_corr_cols),\n",
    "#         (\"binary\", \"passthrough\", binary_cols)\n",
    "#     ]\n",
    "# )\n",
    "\n",
    "# #%%\n",
    "# start = time()\n",
    "# pipe = make_pipeline(date_encoder, preprocessor, regressor)\n",
    "# pipe.fit(X_train, y_train)\n",
    "# elapsed_time = time() - start\n",
    "# print(f\"Training time for DecisionTree without weather: {elapsed_time:.2f} seconds\")\n",
    "# print(f\"Train set, RMSE={mean_squared_error(y_train, pipe.predict(X_train), squared=False):.2f}\")\n",
    "# print(f\"Valid set, RMSE={mean_squared_error(y_valid, pipe.predict(X_valid), squared=False):.2f}\")\n",
    "\n",
    "# # Save predictions\n",
    "# X_test = merged_data\n",
    "# y_pred = pipe.predict(X_test)\n",
    "# results = pd.DataFrame(\n",
    "#     dict(\n",
    "#         Id=np.arange(y_pred.shape[0]),\n",
    "#         log_bike_count=y_pred,\n",
    "#     )\n",
    "# )\n",
    "# output_path = \"submission_decisiontree_without_weather.csv\"\n",
    "# results.to_csv(output_path, index=False)\n",
    "# print(f\"Predictions saved to {output_path}\")\n",
    "\n",
    "# # With weather data\n",
    "# preprocessor = ColumnTransformer(\n",
    "#     [\n",
    "#         (\"date\", OneHotEncoder(handle_unknown=\"ignore\"), date_cols),\n",
    "#         (\"cat\", categorical_encoder, categorical_cols),\n",
    "#         (\"num\", numerical_encoder, numerical_corr_cols),\n",
    "#         (\"binary\", \"passthrough\", binary_cols)\n",
    "#     ]\n",
    "# )\n",
    "\n",
    "# #%%\n",
    "# start = time()\n",
    "# pipe = make_pipeline(date_encoder, preprocessor, regressor)\n",
    "# pipe.fit(X_train, y_train)\n",
    "# elapsed_time = time() - start\n",
    "# print(f\"Training time for DecisionTree with weather: {elapsed_time:.2f} seconds\")\n",
    "# print(f\"Train set, RMSE={mean_squared_error(y_train, pipe.predict(X_train), squared=False):.2f}\")\n",
    "# print(f\"Valid set, RMSE={mean_squared_error(y_valid, pipe.predict(X_valid), squared=False):.2f}\")\n",
    "\n",
    "# # Save predictions\n",
    "# X_test = merged_data\n",
    "# y_pred = pipe.predict(X_test)\n",
    "# results = pd.DataFrame(\n",
    "#     dict(\n",
    "#         Id=np.arange(y_pred.shape[0]),\n",
    "#         log_bike_count=y_pred,\n",
    "#     )\n",
    "# )\n",
    "# output_path = \"submission_decisiontree_with_weather.csv\"\n",
    "# results.to_csv(output_path, index=False)\n",
    "# print(f\"Predictions saved to {output_path}\")\n",
    "\n",
    "# #%%\n"
   ]
  }
 ],
 "metadata": {
  "kernelspec": {
   "display_name": "base",
   "language": "python",
   "name": "python3"
  },
  "language_info": {
   "codemirror_mode": {
    "name": "ipython",
    "version": 3
   },
   "file_extension": ".py",
   "mimetype": "text/x-python",
   "name": "python",
   "nbconvert_exporter": "python",
   "pygments_lexer": "ipython3",
   "version": "3.12.4"
  }
 },
 "nbformat": 4,
 "nbformat_minor": 2
}
